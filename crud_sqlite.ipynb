{
  "nbformat": 4,
  "nbformat_minor": 0,
  "metadata": {
    "colab": {
      "provenance": [],
      "authorship_tag": "ABX9TyOP8Cb0YtEtbj10bfY08pME",
      "include_colab_link": true
    },
    "kernelspec": {
      "name": "python3",
      "display_name": "Python 3"
    },
    "language_info": {
      "name": "python"
    }
  },
  "cells": [
    {
      "cell_type": "markdown",
      "metadata": {
        "id": "view-in-github",
        "colab_type": "text"
      },
      "source": [
        "<a href=\"https://colab.research.google.com/github/pfabreuave/practicas_colab/blob/main/crud_sqlite.ipynb\" target=\"_parent\"><img src=\"https://colab.research.google.com/assets/colab-badge.svg\" alt=\"Open In Colab\"/></a>"
      ]
    },
    {
      "cell_type": "code",
      "execution_count": null,
      "metadata": {
        "id": "urfvKGq3oA_L"
      },
      "outputs": [],
      "source": []
    },
    {
      "cell_type": "markdown",
      "source": [
        "manipulação de um banco de dados Sqlite com python"
      ],
      "metadata": {
        "id": "_PFOdYgxoMI5"
      }
    },
    {
      "cell_type": "code",
      "source": [
        "import sqlite3 as sql"
      ],
      "metadata": {
        "id": "Py4PHLIRok7G"
      },
      "execution_count": null,
      "outputs": []
    },
    {
      "cell_type": "code",
      "source": [
        "turma25_datos = [\n",
        "            (\"Andrea Graciela Sánchez Rivero\",100,65.67,31.5,47.5321875),\n",
        "            (\"Andres David Pinto Hurtado\",100,84.11,15,42.4059375),\n",
        "            (\"Andres Gabriel Reinoza Arteaga\",100,76.78,95.5,90.656875),\n",
        "            (\"Antony José Linares Guevara\",77.67,74.89,79.15,77.813125),\n",
        "            (\"Anyela Coromoto Arboleda Angarita\",88.67,78.67,73.85,76.595),\n",
        "            (\"Consuelo Ascanio de Balabu\",100,92.44,93.65,93.905),\n",
        "            (\"Daily Carolina Campos Jimenez\",100,100,84.3,90.1875),\n",
        "            (\"Danilson Nunes Dos Reis\",100,81.44,79.8,82.155),\n",
        "            (\"Denis Omar Alayza Delgadillo\",100,34.11,0,18.9684375),\n",
        "            (\"Elvin Efraín Conopoy Tortoza\",88.67,96.33,96.95,95.999375),\n",
        "            (\"Emmanuel Phillipe Seme Ndjeng\",100,26.78,0,16.906875),\n",
        "            (\"Francisco Alfredo\",0,0,0,0),\n",
        "            (\"Gabriela Isabel Centeno Guevara\",100,0,0,9.375),\n",
        "            (\"German Ulises Guaigua Guacaran\",0,0,0,0),\n",
        "            (\"Giselle Cordone\",100,79.56,38.05,55.5325),\n",
        "            (\"Gonzalez Pinto Johana Joselín\",100,60.22,40.55,51.655625),\n",
        "            (\"Handy Claude Marie Milliance\",0,0,0,0),\n",
        "            (\"Heber Oswaldo Abreu Castillo\",100,80.44,62.5,71.06125),\n",
        "            (\"Irene Del Rosario Mejías Álvarez\",77.67,47.22,50,51.8121875),\n",
        "            (\"Jesus Pasillas Buenrostro\",100,89.78,87.8,89.500625),\n",
        "            (\"Jhoel Marcial Gonzalez Azocar\",100,90.67,91.95,92.3446875),\n",
        "            (\"Jocelyne Botshimbo M'Pusa\",100,86,87.55,88.28125),\n",
        "            (\"Jovino Esteban Guerrero Toledo\",100,96.22,54.2,70.311875),\n",
        "            (\"Karina Madelaine Perdomo Garces\",100,78.78,30.25,50.438125),\n",
        "            (\"Katherine Andrea Boscan Perdomo\",88.67,80.44,71.35,75.5303125),\n",
        "            (\"Katty Josefina Perdomo Garces\",88.67,73.11,76.45,76.65625),\n",
        "            (\"Leonor Cecilia Pinto Nino\",0,0,0,0),\n",
        "            (\"Lismary Carolina Sandoval Mendez\",88.67,63.89,85.85,79.938125),\n",
        "            (\"Luis Alejandro Ariza Arredondo\",100,82.33,0,32.5303125),\n",
        "            (\"Luis Andres Rattia Montoya\",100,96.33,52.5,69.2803125),\n",
        "            (\"Manuel Jose Rodriguez Izquierdo\",44.33,33.22,36.1,36.0615625),\n",
        "            (\"Marcia Joaquim Da Silva\",88.67,96.22,74.95,82.2184375),\n",
        "            (\"Marcos Martins Simao\",0,0,0,0),\n",
        "            (\"Maribel Colmenares De Nieto\",100,76.78,76.15,78.563125),\n",
        "            (\"Marioxis Katiuska Macías Cuyare\",100,75.89,84.1,73.9065625),\n",
        "            (\"Markelys Alexandra Pernia Leon\",100,73,89.15,76.25),\n",
        "            (\"Michael Junior Reyes Allen\",100,82.33,89.95,88.7490625),\n",
        "            (\"Nelson Mondela Cemelus Delva\",0,0,0,0),\n",
        "            (\"Nohelimar Josefina Gil Guzman\",100,52.89,13.7,32.8128125),\n",
        "            (\"Nzagi Francisco Teca\",0,0,0,0),\n",
        "            (\"Pedro Francisco Abreu Arenas\",100,79.56,92.35,89.47),\n",
        "            (\"Randal Anrgenis Martinez Velasquez\",33.33,3.67,0,4.156875),\n",
        "            (\"Rosanny Janniryth Zapata La Rosa\",100,89.78,44.7,62.563125),\n",
        "            (\"Ruben Dario Vasquez Barreto\",100,85.11,91,90.1871875),\n",
        "            (\"Rudilson Manuel Ié\",100,100,67.05,79.40625),\n",
        "            (\"Sofia Valentina Rumbos Nieves\",100,100,95.5,97.1875),\n",
        "            (\"Vijanti Michelle Hardeo Gómez\",0,0,0,0),\n",
        "            (\"Virginia Jannalyth Zapata La Rosa\",100,67.44,0,28.3425),\n",
        "            (\"Wenega Wama\",88.67,23.11,0,14.8125),\n",
        "            (\"Yahiry Celex Sam\",100,65.56,68.55,70.6575)\n",
        "        ]"
      ],
      "metadata": {
        "id": "cCUduSUtomqE"
      },
      "execution_count": null,
      "outputs": []
    },
    {
      "cell_type": "markdown",
      "source": [
        " Criar banco de dados"
      ],
      "metadata": {
        "id": "32GLW-xqowlh"
      }
    },
    {
      "cell_type": "code",
      "source": [
        "def createDB():\n",
        "    conn = sql.connect(\"tt25.db\")\n",
        "    conn.commit()\n",
        "    conn.close()"
      ],
      "metadata": {
        "id": "K0kBFTkYozpG"
      },
      "execution_count": null,
      "outputs": []
    },
    {
      "cell_type": "markdown",
      "source": [
        "Criar tabela no banco de dados"
      ],
      "metadata": {
        "id": "dahpzSHJo4LC"
      }
    },
    {
      "cell_type": "code",
      "source": [
        "def createTable():\n",
        "     conn = sql.connect(\"tt25.db\")\n",
        "     cursor = conn.cursor()\n",
        "     cursor.execute(\n",
        "        \"\"\"\n",
        "            create table t25_notas (\n",
        "                nome text,\n",
        "                ctrl_proj real,\n",
        "                vers_git real,\n",
        "                python real,\n",
        "                nota_pond real\n",
        "            )\n",
        "        \"\"\"\n",
        "     )\n",
        "     conn.commit()\n",
        "     conn.close()\n"
      ],
      "metadata": {
        "id": "RodVpAlEo783"
      },
      "execution_count": null,
      "outputs": []
    },
    {
      "cell_type": "markdown",
      "source": [
        " adicionar um registro ao banco de dados\n"
      ],
      "metadata": {
        "id": "VtC_PEAgpHNk"
      }
    },
    {
      "cell_type": "code",
      "source": [
        "def insertRow(nome, ctrl_proj, vers_git, python, nota_pond):\n",
        "    \n",
        "     conn = sql.connect(\"tt25.db\")\n",
        "     cursor = conn.cursor()\n",
        "     instruccion = f\"insert into t25_notas values ('{nome}', {ctrl_proj}, {vers_git}, {python}, {nota_pond})\"\n",
        "     cursor.execute(instruccion)\n",
        "     conn.commit()\n",
        "     conn.close()  "
      ],
      "metadata": {
        "id": "12xupGePpN-L"
      },
      "execution_count": null,
      "outputs": []
    },
    {
      "cell_type": "markdown",
      "source": [],
      "metadata": {
        "id": "6yDFyvoGpXyW"
      }
    },
    {
      "cell_type": "markdown",
      "source": [
        "Upload em massa de registros para o banco de dados"
      ],
      "metadata": {
        "id": "U9UwwOyEpfv6"
      }
    },
    {
      "cell_type": "code",
      "source": [
        "def insertRows(lista_reg):\n",
        "     conn = sql.connect(\"tt25.db\")\n",
        "     cursor = conn.cursor()\n",
        "     instruccion = f\"insert into t25_notas values (?, ?, ?, ?, ?)\"\n",
        "     cursor.executemany(instruccion, lista_reg)\n",
        "     conn.commit()\n",
        "     conn.close()\n"
      ],
      "metadata": {
        "id": "tXowxv_FphPv"
      },
      "execution_count": null,
      "outputs": []
    },
    {
      "cell_type": "markdown",
      "source": [
        "Ler registros do banco de dados"
      ],
      "metadata": {
        "id": "CzSQfFdgpoKb"
      }
    },
    {
      "cell_type": "code",
      "source": [
        "def readRow():\n",
        "     conn = sql.connect(\"tt25.db\")\n",
        "     cursor = conn.cursor()\n",
        "     instruccion = f\"select * from t25_notas where nome like 'wene%'\"\n",
        "     cursor.execute(instruccion)\n",
        "     datos = cursor.fetchall()\n",
        "     print(\"\\n\")\n",
        "     for dato in datos:\n",
        "         print(dato)\n",
        "     conn.commit()\n",
        "     conn.close()"
      ],
      "metadata": {
        "id": "txeEsJnxpt4T"
      },
      "execution_count": null,
      "outputs": []
    },
    {
      "cell_type": "code",
      "source": [
        "def readOrdered(field):\n",
        "     conn = sql.connect(\"tt25.db\")\n",
        "     cursor = conn.cursor()\n",
        "     instruccion = f\"select * from t25_notas order by {field}\"\n",
        "     cursor.execute(instruccion)\n",
        "     datos = cursor.fetchall()\n",
        "     print(\"\\n\")\n",
        "     for dato in datos:\n",
        "         print(dato)\n",
        "     conn.commit()\n",
        "     conn.close()"
      ],
      "metadata": {
        "id": "3M_Y8RlcsawP"
      },
      "execution_count": null,
      "outputs": []
    },
    {
      "cell_type": "markdown",
      "source": [
        "Atualizar registros no banco de dados"
      ],
      "metadata": {
        "id": "FC4YzHlLp2fa"
      }
    },
    {
      "cell_type": "code",
      "source": [
        "def updateFields():\n",
        "     conn = sql.connect(\"tt25.db\")\n",
        "     cursor = conn.cursor()\n",
        "     instruccion = f\"update t25_notas set python = 95.8, nota_pond=75.85  where nome = 'Wenega Wama Nuevo'\"\n",
        "     cursor.execute(instruccion)\n",
        "     conn.commit()\n",
        "     conn.close()\n"
      ],
      "metadata": {
        "id": "KSGMxKSxp7py"
      },
      "execution_count": null,
      "outputs": []
    },
    {
      "cell_type": "markdown",
      "source": [
        "Excluir registros do banco de dados\n"
      ],
      "metadata": {
        "id": "rM5fLqcwqDLo"
      }
    },
    {
      "cell_type": "code",
      "source": [
        "def deleteRow():\n",
        "     conn = sql.connect(\"tt25.db\")\n",
        "     cursor = conn.cursor()\n",
        "     instruccion = f\"delete from t25_notas where nome = 'Wenega Wama Nuevo'\"\n",
        "     cursor.execute(instruccion)\n",
        "     conn.commit()\n",
        "     conn.close()"
      ],
      "metadata": {
        "id": "NtP7i3gQqEkJ"
      },
      "execution_count": null,
      "outputs": []
    },
    {
      "cell_type": "markdown",
      "source": [
        "Para iniciar a manipulação do banco de dados, você deve liberar as funções de acordo com o que você precisa."
      ],
      "metadata": {
        "id": "zCet0gJLqn9g"
      }
    },
    {
      "cell_type": "code",
      "source": [
        "if __name__==\"__main__\":\n",
        "    #createDB()\n",
        "    #createTable()\n",
        "    #insertRow(\"Wenega Wama Nuevo\",88.67,23.11,0,14.8125)\n",
        "    #insertRows(turma25_datos)\n",
        "    #readRow()\n",
        "    #updateFields()\n",
        "    #readOrdered(\"nome\")\n",
        "    #deleteRow()\n",
        "    #readRow()\n",
        "    print(\"libere a função que deseja executar\")"
      ],
      "metadata": {
        "colab": {
          "base_uri": "https://localhost:8080/"
        },
        "id": "Rp_LHX08qpSg",
        "outputId": "f4ceae37-de8a-4cd0-e14c-93c1d4c90193"
      },
      "execution_count": null,
      "outputs": [
        {
          "output_type": "stream",
          "name": "stdout",
          "text": [
            "('Wenega Wama Nuevo', 88.67, 23.11, 0.0, 14.8125)\n",
            "('Wenega Wama', 88.67, 23.11, 0.0, 14.8125)\n",
            "('Andrea Graciela Sánchez Rivero', 100.0, 65.67, 31.5, 47.5321875)\n",
            "('Andres David Pinto Hurtado', 100.0, 84.11, 15.0, 42.4059375)\n",
            "('Andres Gabriel Reinoza Arteaga', 100.0, 76.78, 95.5, 90.656875)\n",
            "('Antony José Linares Guevara', 77.67, 74.89, 79.15, 77.813125)\n",
            "('Anyela Coromoto Arboleda Angarita', 88.67, 78.67, 73.85, 76.595)\n",
            "('Consuelo Ascanio de Balabu', 100.0, 92.44, 93.65, 93.905)\n",
            "('Daily Carolina Campos Jimenez', 100.0, 100.0, 84.3, 90.1875)\n",
            "('Danilson Nunes Dos Reis', 100.0, 81.44, 79.8, 82.155)\n",
            "('Denis Omar Alayza Delgadillo', 100.0, 34.11, 0.0, 18.9684375)\n",
            "('Elvin Efraín Conopoy Tortoza', 88.67, 96.33, 96.95, 95.999375)\n",
            "('Emmanuel Phillipe Seme Ndjeng', 100.0, 26.78, 0.0, 16.906875)\n",
            "('Francisco Alfredo', 0.0, 0.0, 0.0, 0.0)\n",
            "('Gabriela Isabel Centeno Guevara', 100.0, 0.0, 0.0, 9.375)\n",
            "('German Ulises Guaigua Guacaran', 0.0, 0.0, 0.0, 0.0)\n",
            "('Giselle Cordone', 100.0, 79.56, 38.05, 55.5325)\n",
            "('Gonzalez Pinto Johana Joselín', 100.0, 60.22, 40.55, 51.655625)\n",
            "('Handy Claude Marie Milliance', 0.0, 0.0, 0.0, 0.0)\n",
            "('Heber Oswaldo Abreu Castillo', 100.0, 80.44, 62.5, 71.06125)\n",
            "('Irene Del Rosario Mejías Álvarez', 77.67, 47.22, 50.0, 51.8121875)\n",
            "('Jesus Pasillas Buenrostro', 100.0, 89.78, 87.8, 89.500625)\n",
            "('Jhoel Marcial Gonzalez Azocar', 100.0, 90.67, 91.95, 92.3446875)\n",
            "(\"Jocelyne Botshimbo M'Pusa\", 100.0, 86.0, 87.55, 88.28125)\n",
            "('Jovino Esteban Guerrero Toledo', 100.0, 96.22, 54.2, 70.311875)\n",
            "('Karina Madelaine Perdomo Garces', 100.0, 78.78, 30.25, 50.438125)\n",
            "('Katherine Andrea Boscan Perdomo', 88.67, 80.44, 71.35, 75.5303125)\n",
            "('Katty Josefina Perdomo Garces', 88.67, 73.11, 76.45, 76.65625)\n",
            "('Leonor Cecilia Pinto Nino', 0.0, 0.0, 0.0, 0.0)\n",
            "('Lismary Carolina Sandoval Mendez', 88.67, 63.89, 85.85, 79.938125)\n",
            "('Luis Alejandro Ariza Arredondo', 100.0, 82.33, 0.0, 32.5303125)\n",
            "('Luis Andres Rattia Montoya', 100.0, 96.33, 52.5, 69.2803125)\n",
            "('Manuel Jose Rodriguez Izquierdo', 44.33, 33.22, 36.1, 36.0615625)\n",
            "('Marcia Joaquim Da Silva', 88.67, 96.22, 74.95, 82.2184375)\n",
            "('Marcos Martins Simao', 0.0, 0.0, 0.0, 0.0)\n",
            "('Maribel Colmenares De Nieto', 100.0, 76.78, 76.15, 78.563125)\n",
            "('Marioxis Katiuska Macías Cuyare', 100.0, 75.89, 84.1, 73.9065625)\n",
            "('Markelys Alexandra Pernia Leon', 100.0, 73.0, 89.15, 76.25)\n",
            "('Michael Junior Reyes Allen', 100.0, 82.33, 89.95, 88.7490625)\n",
            "('Nelson Mondela Cemelus Delva', 0.0, 0.0, 0.0, 0.0)\n",
            "('Nohelimar Josefina Gil Guzman', 100.0, 52.89, 13.7, 32.8128125)\n",
            "('Nzagi Francisco Teca', 0.0, 0.0, 0.0, 0.0)\n",
            "('Pedro Francisco Abreu Arenas', 100.0, 79.56, 92.35, 89.47)\n",
            "('Randal Anrgenis Martinez Velasquez', 33.33, 3.67, 0.0, 4.156875)\n",
            "('Rosanny Janniryth Zapata La Rosa', 100.0, 89.78, 44.7, 62.563125)\n",
            "('Ruben Dario Vasquez Barreto', 100.0, 85.11, 91.0, 90.1871875)\n",
            "('Rudilson Manuel Ié', 100.0, 100.0, 67.05, 79.40625)\n",
            "('Sofia Valentina Rumbos Nieves', 100.0, 100.0, 95.5, 97.1875)\n",
            "('Vijanti Michelle Hardeo Gómez', 0.0, 0.0, 0.0, 0.0)\n",
            "('Virginia Jannalyth Zapata La Rosa', 100.0, 67.44, 0.0, 28.3425)\n",
            "('Wenega Wama', 88.67, 23.11, 0.0, 14.8125)\n",
            "('Wenega Wama Nuevo', 88.67, 23.11, 95.8, 75.85)\n",
            "('Yahiry Celex Sam', 100.0, 65.56, 68.55, 70.6575)\n",
            "('Wenega Wama', 88.67, 23.11, 0.0, 14.8125)\n"
          ]
        }
      ]
    }
  ]
}