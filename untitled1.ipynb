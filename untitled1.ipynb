{
  "nbformat": 4,
  "nbformat_minor": 0,
  "metadata": {
    "colab": {
      "provenance": [],
      "authorship_tag": "ABX9TyMFzZc/KktBdSZtXaJ8JzVG",
      "include_colab_link": true
    },
    "kernelspec": {
      "name": "python3",
      "display_name": "Python 3"
    },
    "language_info": {
      "name": "python"
    }
  },
  "cells": [
    {
      "cell_type": "markdown",
      "metadata": {
        "id": "view-in-github",
        "colab_type": "text"
      },
      "source": [
        "<a href=\"https://colab.research.google.com/github/pfabreuave/practicas_colab/blob/main/untitled1.ipynb\" target=\"_parent\"><img src=\"https://colab.research.google.com/assets/colab-badge.svg\" alt=\"Open In Colab\"/></a>"
      ]
    },
    {
      "cell_type": "code",
      "execution_count": null,
      "metadata": {
        "id": "QL9KAUDFKKtC"
      },
      "outputs": [],
      "source": []
    },
    {
      "cell_type": "markdown",
      "source": [
        "POO Herança\n"
      ],
      "metadata": {
        "id": "0NH71D3fKMLT"
      }
    },
    {
      "cell_type": "markdown",
      "source": [
        "clase Pae\n"
      ],
      "metadata": {
        "id": "1f_h2fyLKXK6"
      }
    },
    {
      "cell_type": "code",
      "source": [
        "class Comunidade:\n",
        "    def __init__(self, nome, idade, profissão, origem): \n",
        "        self.nome = nome\n",
        "        self.idade = idade\n",
        "        self.profissão = profissão\n",
        "        self.origem = origem\n",
        "\n",
        "    def mostrarDatos(self):\n",
        "        print(f\"\\nMi nome e {self.nome} Tenho {self.idade} anos, minha profissão {self.profissão} e nasci em {self.origem}\")"
      ],
      "metadata": {
        "id": "jM7gVAeOKbhM"
      },
      "execution_count": null,
      "outputs": []
    },
    {
      "cell_type": "markdown",
      "source": [
        "clase Estudiante (Filho) que herda do Pae (Comunidade)\n"
      ],
      "metadata": {
        "id": "4ZE7Ymj_LGTg"
      }
    },
    {
      "cell_type": "code",
      "source": [
        "class Estudiante(Comunidade):\n",
        "    def __init__(self, nome, idade, profissão, origem, cursos):\n",
        "        super().__init__(nome, idade, profissão, origem)\n",
        "        self.cursos = cursos"
      ],
      "metadata": {
        "id": "5VcLjjNiLVO8"
      },
      "execution_count": null,
      "outputs": []
    },
    {
      "cell_type": "markdown",
      "source": [
        "clase Funcionario (Filho) que herda do Pae (Comunidade)"
      ],
      "metadata": {
        "id": "4_2lGbHfLudJ"
      }
    },
    {
      "cell_type": "code",
      "source": [
        "class Funcionario(Comunidade):\n",
        "    def __init__(self, nome, idade, profissão, origem, sueldo, cargo):\n",
        "        super().__init__(nome, idade, profissão, origem) \n",
        "        self.sueldo = sueldo\n",
        "        self.cargo = cargo"
      ],
      "metadata": {
        "id": "v82qRW7lL1f7"
      },
      "execution_count": null,
      "outputs": []
    },
    {
      "cell_type": "markdown",
      "source": [
        "instanciar cada classe e executar um método pertencente ao pai"
      ],
      "metadata": {
        "id": "i-LJfK2BMJsw"
      }
    },
    {
      "cell_type": "markdown",
      "source": [
        "instanciar a classe Estudiante"
      ],
      "metadata": {
        "id": "zPUeQ82rMhUi"
      }
    },
    {
      "cell_type": "code",
      "source": [
        "Ruben = Estudiante(\"Ruben\", 38, \"Analista de Teste\", \"Holanda\", [\"Full Stack\", \"Node\", \"React\", \"Python\"])\n",
        "Ruben.mostrarDatos()\n",
        "print(f\"fiz os seguintes cursos: {Ruben.cursos}\\n\")"
      ],
      "metadata": {
        "colab": {
          "base_uri": "https://localhost:8080/"
        },
        "id": "aoOll_RCMmo0",
        "outputId": "8ce3a441-8e88-4898-abb9-1f9d1379b027"
      },
      "execution_count": null,
      "outputs": [
        {
          "output_type": "stream",
          "name": "stdout",
          "text": [
            "\n",
            "Mi nome e Ruben Tenho 38 anos, minha profissão Analista de Teste e nasci em Holanda\n",
            "fiz os seguintes cursos: ['Full Stack', 'Node', 'React', 'Python']\n",
            "\n"
          ]
        }
      ]
    },
    {
      "cell_type": "markdown",
      "source": [
        "instanciar a classe funcionario"
      ],
      "metadata": {
        "id": "-zhKsQVhMv8-"
      }
    },
    {
      "cell_type": "code",
      "source": [
        "Giulia = Funcionario(\"Giulia\", 23, \"Sicologo\", \"Brasil\", 25000, \"Coordinadora TOTI\" )\n",
        "Giulia.mostrarDatos()\n",
        "print(f\"meu salário é {Giulia.sueldo}$, Eu exerço a posição de {Giulia.cargo}\\n\")"
      ],
      "metadata": {
        "colab": {
          "base_uri": "https://localhost:8080/"
        },
        "id": "kMxGYpiUM5RC",
        "outputId": "f080198f-d38f-4a32-f984-7de32f013fa8"
      },
      "execution_count": null,
      "outputs": [
        {
          "output_type": "stream",
          "name": "stdout",
          "text": [
            "\n",
            "Mi nome e Giulia Tenho 23 anos, minha profissão Sicologo e nasci em Brasil\n",
            "meu salário é 25000$, Eu exerço a posição de Coordinadora TOTI\n",
            "\n"
          ]
        }
      ]
    },
    {
      "cell_type": "markdown",
      "source": [
        "instanciar a classe comunidade"
      ],
      "metadata": {
        "id": "o7pd3hNNNaVU"
      }
    },
    {
      "cell_type": "code",
      "source": [
        "Danilson = Comunidade(\"Danilson\", 38, \"Programador\", \"Portugal\")\n",
        "Danilson.mostrarDatos()"
      ],
      "metadata": {
        "colab": {
          "base_uri": "https://localhost:8080/"
        },
        "id": "8nL1DQ0CNjMy",
        "outputId": "99d5b6ba-e89b-4765-fe45-813388180b8c"
      },
      "execution_count": null,
      "outputs": [
        {
          "output_type": "stream",
          "name": "stdout",
          "text": [
            "\n",
            "Mi nome e Danilson Tenho 38 anos, minha profissão Programador e nasci em Portugal\n"
          ]
        }
      ]
    }
  ]
}