{
  "nbformat": 4,
  "nbformat_minor": 0,
  "metadata": {
    "colab": {
      "provenance": [],
      "authorship_tag": "ABX9TyNwOAliLoxVxX5k3sN6g6/h",
      "include_colab_link": true
    },
    "kernelspec": {
      "name": "python3",
      "display_name": "Python 3"
    },
    "language_info": {
      "name": "python"
    }
  },
  "cells": [
    {
      "cell_type": "markdown",
      "metadata": {
        "id": "view-in-github",
        "colab_type": "text"
      },
      "source": [
        "<a href=\"https://colab.research.google.com/github/pfabreuave/practicas_colab/blob/main/media_alun.ipynb\" target=\"_parent\"><img src=\"https://colab.research.google.com/assets/colab-badge.svg\" alt=\"Open In Colab\"/></a>"
      ]
    },
    {
      "cell_type": "code",
      "execution_count": null,
      "metadata": {
        "id": "oNgHr8570Oix"
      },
      "outputs": [],
      "source": []
    },
    {
      "cell_type": "markdown",
      "source": [
        "\n",
        "                        AULA 19 y AULA 23\n",
        "\n",
        "Escreva um programa para calcular a média de os alunos e imprimir “Parabéns \n",
        "<nome do aluno>!” para os alunos que tiveram a nota maior que a média\n",
        "● Ler os nomes e as notas de 3 alunos \n",
        "● Calcular a média da turma \n",
        "● Listar os alunos que tiveram nota acima da média\n",
        "\n"
      ],
      "metadata": {
        "id": "NH3JQC1G0Pz4"
      }
    },
    {
      "cell_type": "markdown",
      "source": [
        "# variáveis"
      ],
      "metadata": {
        "id": "HMC6KEgx0hPW"
      }
    },
    {
      "cell_type": "code",
      "source": [
        "media = 0\n",
        "colunas = 2"
      ],
      "metadata": {
        "id": "aaMWWZq30izh"
      },
      "execution_count": null,
      "outputs": []
    },
    {
      "cell_type": "markdown",
      "source": [
        "# Ciclo para processar os dados capturados e dar resultados "
      ],
      "metadata": {
        "id": "oykn2MQg1dqV"
      }
    },
    {
      "cell_type": "code",
      "source": [
        "def procesa_alunos():\n",
        "    print(\"\\n\\nA MÉDIA DO GRUPO FOI: \", (media / alunos))\n",
        "    for i in range(alunos):\n",
        "        if aluno_nota[i][1] > (media / alunos):\n",
        "            print(\"\\nparaben \" + aluno_nota[i][0] + \" você supera a média com \" + str(aluno_nota[i][1]) + \" puntos\" )\n"
      ],
      "metadata": {
        "id": "hvFAaoJ51ov4"
      },
      "execution_count": null,
      "outputs": []
    },
    {
      "cell_type": "markdown",
      "source": [
        "controle de erros e captura de dados "
      ],
      "metadata": {
        "id": "uzLurRwt2JhD"
      }
    },
    {
      "cell_type": "code",
      "source": [
        "try:\n",
        "    alunos = int(input(\"quantos alunos são: \"  ))\n",
        "    aluno_nota = [([0]*colunas) for alunos in range(alunos) ]\n",
        "    for i in range(alunos):\n",
        "        aluno_nota[i][0] = (input(\"\\ndigite nome do aluno \" + str(i + 1) + \" \" ))   \n",
        "        aluno_nota[i][1] = (float(input(\"\\ndigite a nota do aluno \" + str(i + 1) + \" \" )))\n",
        "        media = aluno_nota[i][1] + media\n",
        "except Exception:\n",
        "    print (\"\\nOCORREU UM ERRO, VOCÊ DEVE REVISAR OS DADOS FORNECIDOS\")\n",
        "else:\n",
        "    procesa_alunos()\n",
        "finally:\n",
        "    print(\"\\nA consulta acabou\\n\")    "
      ],
      "metadata": {
        "id": "z6CDIQVF2NOh"
      },
      "execution_count": null,
      "outputs": []
    }
  ]
}