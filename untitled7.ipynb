{
  "nbformat": 4,
  "nbformat_minor": 0,
  "metadata": {
    "colab": {
      "provenance": [],
      "authorship_tag": "ABX9TyO4fN1nyRshYDaYVNbdawso",
      "include_colab_link": true
    },
    "kernelspec": {
      "name": "python3",
      "display_name": "Python 3"
    },
    "language_info": {
      "name": "python"
    }
  },
  "cells": [
    {
      "cell_type": "markdown",
      "metadata": {
        "id": "view-in-github",
        "colab_type": "text"
      },
      "source": [
        "<a href=\"https://colab.research.google.com/github/pfabreuave/practicas_colab/blob/main/untitled7.ipynb\" target=\"_parent\"><img src=\"https://colab.research.google.com/assets/colab-badge.svg\" alt=\"Open In Colab\"/></a>"
      ]
    },
    {
      "cell_type": "code",
      "execution_count": null,
      "metadata": {
        "id": "ISHxaspyaeFw"
      },
      "outputs": [],
      "source": []
    },
    {
      "cell_type": "markdown",
      "source": [
        "Exercício 01: codificador/decodificador Dufat\n",
        "\n",
        "        ● Escreva um decodificador para a linguagem Dufat\n",
        "        ● Escreva um codificador para a linguagem Dufat\n",
        "        ● Conversas \"criptografadas\"   \n",
        "\n",
        "    ● Codificador:\n",
        "        ○ \"e\" é convertido para \"enter\"\n",
        "        ○ \"i\" é convertido para \"imes\"\n",
        "        ○ \"a\" é convertido para \"ai\"\n",
        "        ○ \"o\" é convertido para \"ober\"\n",
        "        ○ \"u\" é convertido para \"ufat\"\n",
        "\n",
        "    ● Decodificador\n",
        "        ○ \"enter\" é convertido para \"e\"\n",
        "        ○ \"imes\" é convertido para \"i\"\n",
        "        ○ \"ai\" é convertido para \"a\"\n",
        "        ○ \"ober\" é convertido para \"o\"\n",
        "        ○ \"ufat\" é convertido para \"u\" "
      ],
      "metadata": {
        "id": "VxtQKpk0aeu0"
      }
    },
    {
      "cell_type": "code",
      "source": [
        "input_string = \"ola tudo bem\"\n",
        "print(input_string)\n",
        "input_string = input_string.replace(\"e\", \"enter\")\n",
        "input_string = input_string.replace(\"i\", \"imes\")\n",
        "input_string = input_string.replace(\"a\", \"ai\")\n",
        "input_string = input_string.replace(\"o\", \"ober\")\n",
        "input_string = input_string.replace(\"u\", \"ufat\")\n",
        "print(input_string)\n",
        "input_string = input_string.replace(\"enter\", \"e\")\n",
        "input_string = input_string.replace(\"imes\", \"i\")\n",
        "input_string = input_string.replace(\"ai\", \"a\")\n",
        "input_string = input_string.replace(\"ober\", \"o\")\n",
        "input_string = input_string.replace(\"ufat\", \"u\")\n",
        "print(input_string)"
      ],
      "metadata": {
        "colab": {
          "base_uri": "https://localhost:8080/"
        },
        "id": "J73CFZT5aptX",
        "outputId": "e6a218a7-f489-498a-8a5a-0c930d9e4f99"
      },
      "execution_count": null,
      "outputs": [
        {
          "output_type": "stream",
          "name": "stdout",
          "text": [
            "ola tudo bem\n",
            "oberlai tufatdober benterm\n",
            "ola tudo bem\n"
          ]
        }
      ]
    }
  ]
}