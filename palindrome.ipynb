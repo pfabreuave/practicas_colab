{
  "nbformat": 4,
  "nbformat_minor": 0,
  "metadata": {
    "colab": {
      "provenance": [],
      "authorship_tag": "ABX9TyNnKBetrOtqhB59N7N3ReWJ",
      "include_colab_link": true
    },
    "kernelspec": {
      "name": "python3",
      "display_name": "Python 3"
    },
    "language_info": {
      "name": "python"
    }
  },
  "cells": [
    {
      "cell_type": "markdown",
      "metadata": {
        "id": "view-in-github",
        "colab_type": "text"
      },
      "source": [
        "<a href=\"https://colab.research.google.com/github/pfabreuave/practicas_colab/blob/main/palindrome.ipynb\" target=\"_parent\"><img src=\"https://colab.research.google.com/assets/colab-badge.svg\" alt=\"Open In Colab\"/></a>"
      ]
    },
    {
      "cell_type": "code",
      "execution_count": null,
      "metadata": {
        "id": "Qa803-ZQuBA4"
      },
      "outputs": [],
      "source": []
    },
    {
      "cell_type": "markdown",
      "source": [
        "Exemplo de palíndromo em espanhol\n",
        "\n",
        "    Átale, demoníaco Caín, o me delata\n",
        "    ¿Bérgamo?, ¡no, Magreb!.\n",
        "    arepera\n",
        "    Reconocer\n",
        "    sometemos\n",
        "    ¡Abusón, acá no suba! \n",
        "    Ana\n",
        "    oso\n",
        "    Yo soy\n",
        "    la ruta nos aporto otro paso natural\n",
        "    Mal si le das la fe falsa del Islam\n",
        "    Allí por la tropa portado, traído a ese paraje de maniobras, una tipa como capitán usar boina me dejara, pese a odiar toda tropa por tal ropilla\n"
      ],
      "metadata": {
        "id": "0dgr2VlXuFuF"
      }
    },
    {
      "cell_type": "code",
      "source": [
        "import re"
      ],
      "metadata": {
        "id": "t9-cZrzYuRDF"
      },
      "execution_count": null,
      "outputs": []
    },
    {
      "cell_type": "code",
      "source": [
        "def palindrome(input_string):\n",
        "\n",
        "#condicionando a string para análise\n",
        "\n",
        "    input_string = input_string.lower()\n",
        "    for elemento in ((\"á\", \"a\"), (\"é\", \"e\"), (\"í\", \"i\"), (\"ó\", \"o\"), (\"ú\", \"u\")):\n",
        "        input_string = input_string.replace(*elemento)\n",
        "    input_string = re.sub(r\"[^a-zA-Z0-9]\",\"\",input_string)    \n",
        "    print(\"como ficou \", input_string)    \n",
        "   \n",
        "\n",
        "#analisando string depurada\n",
        "    \n",
        "    j = len(input_string)\n",
        "    for i in range(0, len(input_string)):\n",
        "        j -= 1\n",
        "        if input_string[i] != input_string[j]:\n",
        "           return False\n",
        "    return True"
      ],
      "metadata": {
        "id": "6Etr7wlBuWLH"
      },
      "execution_count": null,
      "outputs": []
    },
    {
      "cell_type": "markdown",
      "source": [
        "captura de string e chamada de função"
      ],
      "metadata": {
        "id": "bWLGUdKTulLD"
      }
    },
    {
      "cell_type": "code",
      "source": [
        "input_string = input(\"\\nDigite o texto a ser verificado: \")\n",
        "print(\"Este é o seu texto Original: \",input_string)\n",
        "if palindrome(input_string):\n",
        "   print(\"é palintrome\")\n",
        "else:   \n",
        "    print(\"Nã é palintrome\")\n",
        "print(\"\\nObrigado por participar dos meus testes.\")"
      ],
      "metadata": {
        "id": "2qM-Bc-duqDq"
      },
      "execution_count": null,
      "outputs": []
    }
  ]
}