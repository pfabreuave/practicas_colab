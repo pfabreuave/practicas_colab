{
  "nbformat": 4,
  "nbformat_minor": 0,
  "metadata": {
    "colab": {
      "provenance": [],
      "authorship_tag": "ABX9TyMt55wLD6ch8+i2ggrkXJbV",
      "include_colab_link": true
    },
    "kernelspec": {
      "name": "python3",
      "display_name": "Python 3"
    },
    "language_info": {
      "name": "python"
    }
  },
  "cells": [
    {
      "cell_type": "markdown",
      "metadata": {
        "id": "view-in-github",
        "colab_type": "text"
      },
      "source": [
        "<a href=\"https://colab.research.google.com/github/pfabreuave/practicas_colab/blob/main/untitled2.ipynb\" target=\"_parent\"><img src=\"https://colab.research.google.com/assets/colab-badge.svg\" alt=\"Open In Colab\"/></a>"
      ]
    },
    {
      "cell_type": "code",
      "execution_count": null,
      "metadata": {
        "id": "MdnxLWV6P4E8"
      },
      "outputs": [],
      "source": []
    },
    {
      "cell_type": "markdown",
      "source": [
        "          AULA 02 - AULA 03 - AULA 04 - AULA 05 - AULA 06\n",
        "   Escreva um código em Python que calcule o seu índice de massa corporal (IMC)\n",
        "\n",
        "                    EXCEPCIONES AULA 22\n",
        "   Exceções são erros que ocorrem durante a execução do Programa. \n",
        "   Esses erros surgem apesar da sintaxe estar correta.\n",
        "   Exemplos:\n",
        "        - Acesse um ÍNDICE de uma lista maior que seu Len.\n",
        "        - Tentativa de abrir um ARQUIVO que não existe.\n",
        "        - Converter \"STRING\" para INT, FLOAT\n",
        "   IMPORTANTE: Gerenciar exceções nos permite seguir o código\n",
        "   executando apesar da ocorrência de erros."
      ],
      "metadata": {
        "id": "tamVelsYP53v"
      }
    },
    {
      "cell_type": "code",
      "source": [
        "def calcula_IMC():\n",
        "    try:\n",
        "        IMC_resultado = ' '\n",
        "        nome = input (\"Me dê seu nome \")\n",
        "        peso = float(input(\"Qual é o seu peso? \"))\n",
        "        altura = float(input(\"Quão alto é você? \"))\n",
        "        IMC = peso / altura**2\n",
        "    except Exception:\n",
        "        print (\"ocorreu um erro, você deve revisar os dados fornecidos\")\n",
        "    else:\n",
        "        if IMC < 16:\n",
        "               IMC_resultado = \"Seu categoria é: Magreza grave\\n\"\n",
        "        elif IMC >= 16 and IMC < 17:\n",
        "             IMC_resultado = \"Seu categoria é: Magreza moderada\\n\"\n",
        "        elif IMC >= 17 and IMC <= 18.5:\n",
        "             IMC_resultado = \"Seu categoria é: Magreza leve\\n\"\n",
        "        elif IMC > 18.5 and IMC < 25:\n",
        "             IMC_resultado = \"Seu categoria é: Saudável\\n\"\n",
        "        elif IMC >=25 and IMC < 30:\n",
        "             IMC_resultado =\"Seu categoria é: Sobrepeso\\n\"\n",
        "        elif IMC >=30 and IMC < 35:\n",
        "             IMC_resultado =\"Seu categoria é: Obesidade Grau I\\n\" \n",
        "        elif IMC >=35 and IMC < 40:\n",
        "             IMC_resultado =\"Seu categoria é: Obesidade Grau II (severa)\\n\" \n",
        "        else:\n",
        "             IMC_resultado =\"Seu categoria é: Obesidade Grau III (mórbida)\\n\"\n",
        "        print (\"\\n\"+nome+\":\", \"hemos calculado\", IMC, \"y\", IMC_resultado)    \n",
        "    finally:\n",
        "        print(\"A consulta acabou\\n\")"
      ],
      "metadata": {
        "id": "aXOwz7Ctauno"
      },
      "execution_count": null,
      "outputs": []
    },
    {
      "cell_type": "code",
      "source": [
        "accion = input(\"\\nse você deseja calcular seu IMC, digite Y \") \n",
        "if accion.upper() == 'Y':\n",
        "   calcula_IMC() "
      ],
      "metadata": {
        "id": "AFHaKXQyQj9r"
      },
      "execution_count": null,
      "outputs": []
    }
  ]
}