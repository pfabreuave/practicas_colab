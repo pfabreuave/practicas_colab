{
  "nbformat": 4,
  "nbformat_minor": 0,
  "metadata": {
    "colab": {
      "provenance": [],
      "authorship_tag": "ABX9TyNKYsUo++T2HE4YaaPWh0ma",
      "include_colab_link": true
    },
    "kernelspec": {
      "name": "python3",
      "display_name": "Python 3"
    },
    "language_info": {
      "name": "python"
    }
  },
  "cells": [
    {
      "cell_type": "markdown",
      "metadata": {
        "id": "view-in-github",
        "colab_type": "text"
      },
      "source": [
        "<a href=\"https://colab.research.google.com/github/pfabreuave/practicas_colab/blob/main/dufat.ipynb\" target=\"_parent\"><img src=\"https://colab.research.google.com/assets/colab-badge.svg\" alt=\"Open In Colab\"/></a>"
      ]
    },
    {
      "cell_type": "code",
      "execution_count": null,
      "metadata": {
        "id": "qj9UkNTN6rTc"
      },
      "outputs": [],
      "source": []
    },
    {
      "cell_type": "markdown",
      "source": [
        " AULAS LOGICA DE PROGRAMAÇÃO CURSO PYTHON\n",
        "\n",
        "    Exercício 01: codificador/decodificador Dufat\n",
        "\n",
        "        ● Escreva um decodificador para a linguagem Dufat\n",
        "        ● Escreva um codificador para a linguagem Dufat\n",
        "        ● Conversas \"criptografadas\"   \n",
        "\n",
        "    ● Codificador:\n",
        "        ○ \"e\" é convertido para \"enter\"\n",
        "        ○ \"i\" é convertido para \"imes\"\n",
        "        ○ \"a\" é convertido para \"ai\"\n",
        "        ○ \"o\" é convertido para \"ober\"\n",
        "        ○ \"u\" é convertido para \"ufat\"\n",
        "\n",
        "    ● Decodificador\n",
        "        ○ \"enter\" é convertido para \"e\"\n",
        "        ○ \"imes\" é convertido para \"i\"\n",
        "        ○ \"ai\" é convertido para \"a\"\n",
        "        ○ \"ober\" é convertido para \"o\"\n",
        "        ○ \"ufat\" é convertido para \"u\" "
      ],
      "metadata": {
        "id": "xTncmjAq6wls"
      }
    },
    {
      "cell_type": "markdown",
      "source": [
        "SOLUÇÃO 1"
      ],
      "metadata": {
        "id": "9jhEHUPt657B"
      }
    },
    {
      "cell_type": "code",
      "source": [
        "print(\"             SOLUCION 1  USANDO METODO replace\")\n"
      ],
      "metadata": {
        "id": "lbWD6UT48K9v"
      },
      "execution_count": null,
      "outputs": []
    },
    {
      "cell_type": "markdown",
      "source": [
        "Captura Texto"
      ],
      "metadata": {
        "id": "7fAdgFU47GZ6"
      }
    },
    {
      "cell_type": "code",
      "source": [
        "input_string = input(\"Digite o texto a ser criptografado: \")\n",
        "print(\"Este é o seu texto Original: \",input_string)"
      ],
      "metadata": {
        "id": "ZHWPBxS27L2T"
      },
      "execution_count": null,
      "outputs": []
    },
    {
      "cell_type": "markdown",
      "source": [
        "Encripta Texto"
      ],
      "metadata": {
        "id": "3qdE5_F_7UCe"
      }
    },
    {
      "cell_type": "code",
      "source": [
        "input_string = (input_string.replace(\"e\", \"enter\")\n",
        "                            .replace(\"i\", \"imes\")\n",
        "                            .replace( \"a\", \"ai\")\n",
        "                            .replace(\"o\", \"ober\")\n",
        "                            .replace(\"u\", \"ufat\"))\n",
        "\n",
        "print(\"\\nEste é o seu texto criptografado: \",input_string)\n"
      ],
      "metadata": {
        "id": "07-8KpQC7Zbc"
      },
      "execution_count": null,
      "outputs": []
    },
    {
      "cell_type": "markdown",
      "source": [
        "Desencripta texto"
      ],
      "metadata": {
        "id": "SkRrg5LG7edQ"
      }
    },
    {
      "cell_type": "code",
      "source": [
        "input_string = (input_string.replace(\"enter\", \"e\")\n",
        "                            .replace(\"imes\", \"i\")\n",
        "                            .replace(\"ai\", \"a\")\n",
        "                            .replace(\"ober\", \"o\")\n",
        "                            .replace(\"ufat\", \"u\"))\n",
        "\n",
        "print(\"\\nEste é o seu texto descriptografado: \",input_string,\"\\n\")"
      ],
      "metadata": {
        "id": "hgYa7qV67mVj"
      },
      "execution_count": null,
      "outputs": []
    },
    {
      "cell_type": "markdown",
      "source": [
        "SOLUÇÃO 2"
      ],
      "metadata": {
        "id": "8r0l-c_i7r8R"
      }
    },
    {
      "cell_type": "code",
      "source": [
        "print(\"             SOLUCION 2  USANDO METODO replace dentro de um FOR\")"
      ],
      "metadata": {
        "id": "QPk5bs8a8T8w"
      },
      "execution_count": null,
      "outputs": []
    },
    {
      "cell_type": "markdown",
      "source": [
        "Captura Texto"
      ],
      "metadata": {
        "id": "lzgB9uXL8XYa"
      }
    },
    {
      "cell_type": "code",
      "source": [
        "input_string = input(\"\\nDigite o texto a ser criptografado: \")\n",
        "print(\"Este é o seu texto Original: \",input_string)"
      ],
      "metadata": {
        "id": "lBF4BbnO8fU2"
      },
      "execution_count": null,
      "outputs": []
    },
    {
      "cell_type": "markdown",
      "source": [
        "Encripta Texto"
      ],
      "metadata": {
        "id": "iqEBX5Ny8o28"
      }
    },
    {
      "cell_type": "code",
      "source": [
        "for elemento in ((\"e\", \"enter\"), (\"i\", \"imes\"), (\"a\", \"ai\"), (\"o\", \"ober\"), (\"u\", \"ufat\")):\n",
        "    input_string = input_string.replace(*elemento)\n",
        "print(\"\\nEste é o seu texto criptografado: \",input_string)"
      ],
      "metadata": {
        "id": "P3haaO0T8tTG"
      },
      "execution_count": null,
      "outputs": []
    },
    {
      "cell_type": "markdown",
      "source": [
        "Desencripta texto"
      ],
      "metadata": {
        "id": "rkB_ruUw8z4a"
      }
    },
    {
      "cell_type": "code",
      "source": [
        "for elemento in ((\"enter\", \"e\"), (\"imes\", \"i\"), (\"ai\", \"a\"), (\"ober\", \"o\"), (\"ufat\", \"u\")):\n",
        "    input_string = input_string.replace(*elemento)\n",
        "print(\"\\nEste é o seu texto descriptografado: \",input_string,\"\\n\")"
      ],
      "metadata": {
        "id": "CXB9jrv6841p"
      },
      "execution_count": null,
      "outputs": []
    }
  ]
}