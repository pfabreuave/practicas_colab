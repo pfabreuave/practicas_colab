{
  "nbformat": 4,
  "nbformat_minor": 0,
  "metadata": {
    "colab": {
      "provenance": [],
      "authorship_tag": "ABX9TyMegfhlIf3VS/F6uAH9emp6",
      "include_colab_link": true
    },
    "kernelspec": {
      "name": "python3",
      "display_name": "Python 3"
    },
    "language_info": {
      "name": "python"
    }
  },
  "cells": [
    {
      "cell_type": "markdown",
      "metadata": {
        "id": "view-in-github",
        "colab_type": "text"
      },
      "source": [
        "<a href=\"https://colab.research.google.com/github/pfabreuave/practicas_colab/blob/main/piramide_mullt.ipynb\" target=\"_parent\"><img src=\"https://colab.research.google.com/assets/colab-badge.svg\" alt=\"Open In Colab\"/></a>"
      ]
    },
    {
      "cell_type": "code",
      "execution_count": null,
      "metadata": {
        "id": "-2CgpWc3toDv"
      },
      "outputs": [],
      "source": []
    },
    {
      "cell_type": "markdown",
      "source": [
        "Usando FOR e WHILE para construir pirâmides"
      ],
      "metadata": {
        "id": "ZbAW1-NYts-k"
      }
    },
    {
      "cell_type": "code",
      "source": [
        "def construye_pir(alt):\n",
        "\n",
        "    print(\"\\npirâmide com asteriscos\\n\")\n",
        "\n",
        "    for i in range(alt):\n",
        "        print(\" \" *( alt - i) + \"*\" * (2 * i +1))\n",
        "\n",
        "\n",
        "    print(\"\\npirâmide com números em sequência\\n\")\n",
        "\n",
        "    espacio = alt - 1\n",
        "    cont = 1\n",
        "\n",
        "    while espacio>=0:\n",
        "        print(espacio*\" \", end=\"\")\n",
        "        for i in range(cont):\n",
        "            print(((i + 1) % 10), end=\"\")\n",
        "        print(end=\"\\n\")\n",
        "        cont+=2\n",
        "        espacio-=1\n",
        "\n",
        "    print(\"\\ntriângulo com números em sequência a 90 graus\")    \n",
        "\n",
        "    for i in range(1, alt+1):\n",
        "        print(\"\")\n",
        "        for j in range(1, i+1):\n",
        "            print((j  % 10),end=\" \")\n",
        "\n",
        "    for i in range(alt-1,0,-1):\n",
        "        print(\"\")\n",
        "        for j in range(1, i+1):\n",
        "            print((j  % 10),end=\" \")"
      ],
      "metadata": {
        "id": "rIeTm8y4uLtk"
      },
      "execution_count": null,
      "outputs": []
    },
    {
      "cell_type": "code",
      "source": [
        "try:\n",
        "    alt = int(input(\"\\nDe Quantos NIVELES você quer suas pirâmides? (VALOR INTEIRO POSITIVO) : \"  ))\n",
        "\n",
        "except Exception:\n",
        "    print (\"\\nOCORREU UM ERRO, LEMBRE-SE QUE SÓ PODE SER UM NÚMERO INTEIRO POSITIVO\")\n",
        "\n",
        "else:\n",
        "    construye_pir(alt)\n",
        "    print(\"\\n\\nObrigado por participar dos meus testes.\")\n",
        "        \n",
        "finally:\n",
        "    print(\"\\nA consulta acabou\\n\")    "
      ],
      "metadata": {
        "id": "5mJVRFhVuTSq",
        "colab": {
          "base_uri": "https://localhost:8080/"
        },
        "outputId": "4ecc2932-01b0-4137-d729-d38617cae619"
      },
      "execution_count": null,
      "outputs": [
        {
          "output_type": "stream",
          "name": "stdout",
          "text": [
            "\n",
            "De Quantos NIVELES você quer suas pirâmides? (VALOR INTEIRO POSITIVO) : 8\n",
            "\n",
            "pirâmide com asteriscos\n",
            "\n",
            "        *\n",
            "       ***\n",
            "      *****\n",
            "     *******\n",
            "    *********\n",
            "   ***********\n",
            "  *************\n",
            " ***************\n",
            "\n",
            "pirâmide com números em sequência\n",
            "\n",
            "       1\n",
            "      123\n",
            "     12345\n",
            "    1234567\n",
            "   123456789\n",
            "  12345678901\n",
            " 1234567890123\n",
            "123456789012345\n",
            "\n",
            "triângulo com números em sequência a 90 graus\n",
            "\n",
            "1 \n",
            "1 2 \n",
            "1 2 3 \n",
            "1 2 3 4 \n",
            "1 2 3 4 5 \n",
            "1 2 3 4 5 6 \n",
            "1 2 3 4 5 6 7 \n",
            "1 2 3 4 5 6 7 8 \n",
            "1 2 3 4 5 6 7 \n",
            "1 2 3 4 5 6 \n",
            "1 2 3 4 5 \n",
            "1 2 3 4 \n",
            "1 2 3 \n",
            "1 2 \n",
            "1 \n",
            "\n",
            "Obrigado por participar dos meus testes.\n",
            "\n",
            "A consulta acabou\n",
            "\n"
          ]
        }
      ]
    }
  ]
}