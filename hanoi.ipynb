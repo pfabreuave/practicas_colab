{
  "nbformat": 4,
  "nbformat_minor": 0,
  "metadata": {
    "colab": {
      "provenance": [],
      "authorship_tag": "ABX9TyMknty0pU+9cKP0TVmwZZd1",
      "include_colab_link": true
    },
    "kernelspec": {
      "name": "python3",
      "display_name": "Python 3"
    },
    "language_info": {
      "name": "python"
    }
  },
  "cells": [
    {
      "cell_type": "markdown",
      "metadata": {
        "id": "view-in-github",
        "colab_type": "text"
      },
      "source": [
        "<a href=\"https://colab.research.google.com/github/pfabreuave/practicas_colab/blob/main/hanoi.ipynb\" target=\"_parent\"><img src=\"https://colab.research.google.com/assets/colab-badge.svg\" alt=\"Open In Colab\"/></a>"
      ]
    },
    {
      "cell_type": "code",
      "execution_count": null,
      "metadata": {
        "id": "ucWeH9jvT4FP"
      },
      "outputs": [],
      "source": []
    },
    {
      "cell_type": "markdown",
      "source": [
        "                  TORRE HANOI\n",
        "  AULAS LOGICA DE PROGRAMAÇÃO CURSO PYTHON"
      ],
      "metadata": {
        "id": "hA1snXf4T45T"
      }
    },
    {
      "cell_type": "code",
      "source": [
        "def moveHanoi(n,origen, destino, auxiliar):\n",
        "\n",
        "    if n > 0:\n",
        "\n",
        "       moveHanoi(n-1,origen,auxiliar,destino)\n",
        "\n",
        "       print(f\"mover disco {n} de {origen} ==> {destino}\")\n",
        "\n",
        "       moveHanoi(n-1,auxiliar,destino,origen)"
      ],
      "metadata": {
        "id": "eaA49hO8URQZ"
      },
      "execution_count": null,
      "outputs": []
    },
    {
      "cell_type": "markdown",
      "source": [
        "Manipulação de erros"
      ],
      "metadata": {
        "id": "sLg1XNsvUbJZ"
      }
    },
    {
      "cell_type": "code",
      "source": [
        "try:\n",
        "    n = int(input(\"Quantos discos você quer usar? (VALOR INTEIRO POSITIVO) : \"  ))\n",
        "\n",
        "except Exception:\n",
        "    print (\"\\nOCORREU UM ERRO, LEMBRE-SE QUE SÓ PODE SER UM NÚMERO INTEIRO POSITIVO\")\n",
        "\n",
        "else:\n",
        "    moveHanoi(n,\"A\",\"B\",\"C\")\n",
        "    passos =(2**n)-1\n",
        "    if passos >= 1:\n",
        "       print(\"\\nResolvido em \" + str(passos) + \" passos\")\n",
        "       \n",
        "finally:\n",
        "    print(\"\\nA consulta acabou\\n\")    "
      ],
      "metadata": {
        "id": "JetUa0EEUd2M",
        "colab": {
          "base_uri": "https://localhost:8080/"
        },
        "outputId": "4f8aa05e-4059-48dd-fe6a-56c35fe08eff"
      },
      "execution_count": null,
      "outputs": [
        {
          "output_type": "stream",
          "name": "stdout",
          "text": [
            "Quantos discos você quer usar? (VALOR INTEIRO POSITIVO) : 1\n",
            "mover disco 1 de A ==> B\n",
            "\n",
            "Resolvido em 1 passos\n",
            "\n",
            "A consulta acabou\n",
            "\n"
          ]
        }
      ]
    }
  ]
}