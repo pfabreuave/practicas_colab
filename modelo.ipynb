{
  "nbformat": 4,
  "nbformat_minor": 0,
  "metadata": {
    "colab": {
      "provenance": [],
      "authorship_tag": "ABX9TyM2dMTe6Mdxh+jFwcXYMu2g",
      "include_colab_link": true
    },
    "kernelspec": {
      "name": "python3",
      "display_name": "Python 3"
    },
    "language_info": {
      "name": "python"
    }
  },
  "cells": [
    {
      "cell_type": "markdown",
      "metadata": {
        "id": "view-in-github",
        "colab_type": "text"
      },
      "source": [
        "<a href=\"https://colab.research.google.com/github/pfabreuave/practicas_colab/blob/main/modelo.ipynb\" target=\"_parent\"><img src=\"https://colab.research.google.com/assets/colab-badge.svg\" alt=\"Open In Colab\"/></a>"
      ]
    },
    {
      "cell_type": "code",
      "execution_count": null,
      "metadata": {
        "id": "tp9x2E_4Qt8w"
      },
      "outputs": [],
      "source": [
        "import pandas as pd\n",
        "import numpy as np"
      ]
    },
    {
      "cell_type": "code",
      "source": [
        "df = pd.read_excel(\"/content/turma25.xlsx\", index_col=0)\n",
        " "
      ],
      "metadata": {
        "id": "9HZoRuziRo9y"
      },
      "execution_count": null,
      "outputs": []
    },
    {
      "cell_type": "code",
      "source": [
        "df"
      ],
      "metadata": {
        "id": "iCmFDQEY0gu0"
      },
      "execution_count": null,
      "outputs": []
    },
    {
      "cell_type": "code",
      "source": [
        "df.describe().round(2)\n"
      ],
      "metadata": {
        "id": "q14its140AWQ"
      },
      "execution_count": null,
      "outputs": []
    },
    {
      "cell_type": "code",
      "source": [
        "dd = df.to_dict(orient=\"index\") #diccionario de diccionario\n",
        "\n",
        "for llave_primer_diccionario, valor_primer_diccionario in dd.items():\n",
        "    print(f'{llave_primer_diccionario}')\n",
        "    for llave_segundo_diccionario, valor_segundo_diccionario in valor_primer_diccionario.items():\n",
        "        print(f'{llave_segundo_diccionario} {valor_segundo_diccionario}')"
      ],
      "metadata": {
        "id": "UCkeuv33z5aQ"
      },
      "execution_count": null,
      "outputs": []
    },
    {
      "cell_type": "code",
      "source": [
        "data = pd.read_csv(\"/content/t25.csv\")\n",
        "print(data)\n",
        "\n",
        "# En Pandas, el modificador tail nos ofrece una vista de los datos mucho más atractiva\n",
        "# Ver final\n",
        "data.tail()"
      ],
      "metadata": {
        "id": "1UL1rNltJDvY"
      },
      "execution_count": null,
      "outputs": []
    }
  ]
}