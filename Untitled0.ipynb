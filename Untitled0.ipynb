{
  "nbformat": 4,
  "nbformat_minor": 0,
  "metadata": {
    "colab": {
      "provenance": [],
      "authorship_tag": "ABX9TyOspimXsGMCuA71jsfBj3GZ",
      "include_colab_link": true
    },
    "kernelspec": {
      "name": "python3",
      "display_name": "Python 3"
    },
    "language_info": {
      "name": "python"
    }
  },
  "cells": [
    {
      "cell_type": "markdown",
      "metadata": {
        "id": "view-in-github",
        "colab_type": "text"
      },
      "source": [
        "<a href=\"https://colab.research.google.com/github/pfabreuave/practicas_colab/blob/main/Untitled0.ipynb\" target=\"_parent\"><img src=\"https://colab.research.google.com/assets/colab-badge.svg\" alt=\"Open In Colab\"/></a>"
      ]
    },
    {
      "cell_type": "markdown",
      "source": [
        "Primeros codigos en google colab"
      ],
      "metadata": {
        "id": "RftZOGyhoyz0"
      }
    },
    {
      "cell_type": "markdown",
      "source": [
        "Escreva um programa para calcular a média de 3 alunos e imprimir “Parabéns \n",
        "<nome do aluno>!” para os alunos que tiveram a nota maior que a média\n",
        "● Ler os nomes e as notas de 3 alunos \n",
        "● Calcular a média da turma \n",
        "● Listar os alunos que tiveram nota acima da média"
      ],
      "metadata": {
        "id": "qKeSfVr-qGCF"
      }
    },
    {
      "cell_type": "markdown",
      "source": [
        "Variables"
      ],
      "metadata": {
        "id": "tu2DMmp8qT66"
      }
    },
    {
      "cell_type": "code",
      "source": [
        "media = 0\n",
        "alunos = int(input(\"quantos alunos são: \"  ))\n",
        "nota = 2"
      ],
      "metadata": {
        "id": "1CE7jTLKqYFm"
      },
      "execution_count": null,
      "outputs": []
    },
    {
      "cell_type": "markdown",
      "source": [
        "se crea e inicializa lista"
      ],
      "metadata": {
        "id": "pxw49Sykqoba"
      }
    },
    {
      "cell_type": "code",
      "source": [
        "aluno_nota = [([0]*nota) for alunos in range(alunos) ]"
      ],
      "metadata": {
        "id": "mgiNyg7pqs14"
      },
      "execution_count": null,
      "outputs": []
    },
    {
      "cell_type": "markdown",
      "source": [
        "ciclo para la captura de los datos requeridos"
      ],
      "metadata": {
        "id": "O_4AkmWdq3G6"
      }
    },
    {
      "cell_type": "code",
      "source": [
        "for i in range(alunos):\n",
        "  aluno_nota[i][0] = (input(\"\\ndigite nome do aluno \" + str(i + 1) + \" \" ))   \n",
        "  aluno_nota[i][1] = (float(input(\"\\ndigite a nota do aluno \" + str(i + 1) + \" \" )))\n",
        "  media = aluno_nota[i][1] + media"
      ],
      "metadata": {
        "id": "O6-TSZ9mq_SN"
      },
      "execution_count": null,
      "outputs": []
    },
    {
      "cell_type": "markdown",
      "source": [
        "ciclo para procesar los datos capturados y dar resultados"
      ],
      "metadata": {
        "id": "UzGXGqRYrPLd"
      }
    },
    {
      "cell_type": "code",
      "source": [
        "print(\"\\n\\nLA MEDIA DEL GRUPO FUE: \", (media / alunos))\n",
        "for i in range(alunos):\n",
        "    if aluno_nota[i][1] > (media / alunos):\n",
        "        print(\"\\nparaben \" + aluno_nota[i][0] + \" você supera a média com \" + str(aluno_nota[i][1]) + \" puntos\" )"
      ],
      "metadata": {
        "id": "8FDggWPgrVbu"
      },
      "execution_count": null,
      "outputs": []
    }
  ]
}