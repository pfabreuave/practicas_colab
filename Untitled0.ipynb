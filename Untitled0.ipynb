{
  "nbformat": 4,
  "nbformat_minor": 0,
  "metadata": {
    "colab": {
      "provenance": [],
      "authorship_tag": "ABX9TyN1CatkoesoA5qiJ3l+A/WY",
      "include_colab_link": true
    },
    "kernelspec": {
      "name": "python3",
      "display_name": "Python 3"
    },
    "language_info": {
      "name": "python"
    }
  },
  "cells": [
    {
      "cell_type": "markdown",
      "metadata": {
        "id": "view-in-github",
        "colab_type": "text"
      },
      "source": [
        "<a href=\"https://colab.research.google.com/github/pfabreuave/practicas_colab/blob/main/Untitled0.ipynb\" target=\"_parent\"><img src=\"https://colab.research.google.com/assets/colab-badge.svg\" alt=\"Open In Colab\"/></a>"
      ]
    },
    {
      "cell_type": "markdown",
      "source": [
        "Primeros codigos en google colab"
      ],
      "metadata": {
        "id": "RftZOGyhoyz0"
      }
    },
    {
      "cell_type": "markdown",
      "source": [],
      "metadata": {
        "id": "J2HGJSXKrfqY"
      }
    },
    {
      "cell_type": "markdown",
      "source": [],
      "metadata": {
        "id": "_kXgeZforoun"
      }
    },
    {
      "cell_type": "markdown",
      "source": [],
      "metadata": {
        "id": "yypEieQXp-2e"
      }
    },
    {
      "cell_type": "markdown",
      "source": [],
      "metadata": {
        "id": "ItPTkJ5Opi6k"
      }
    },
    {
      "cell_type": "markdown",
      "source": [
        "Escreva um programa para calcular a média de 3 alunos e imprimir “Parabéns \n",
        "<nome do aluno>!” para os alunos que tiveram a nota maior que a média\n",
        "● Ler os nomes e as notas de 3 alunos \n",
        "● Calcular a média da turma \n",
        "● Listar os alunos que tiveram nota acima da média"
      ],
      "metadata": {
        "id": "qKeSfVr-qGCF"
      }
    },
    {
      "cell_type": "markdown",
      "source": [
        "Variables"
      ],
      "metadata": {
        "id": "tu2DMmp8qT66"
      }
    },
    {
      "cell_type": "code",
      "source": [
        "media = 0\n",
        "alunos = int(input(\"quantos alunos são: \"  ))\n",
        "nota = 2"
      ],
      "metadata": {
        "colab": {
          "base_uri": "https://localhost:8080/"
        },
        "id": "1CE7jTLKqYFm",
        "outputId": "6e771ae3-31ba-461d-b6f9-779888c0f93c"
      },
      "execution_count": 3,
      "outputs": [
        {
          "name": "stdout",
          "output_type": "stream",
          "text": [
            "quantos alunos são: 4\n"
          ]
        }
      ]
    },
    {
      "cell_type": "markdown",
      "source": [
        "se crea e inicializa lista"
      ],
      "metadata": {
        "id": "pxw49Sykqoba"
      }
    },
    {
      "cell_type": "code",
      "source": [
        "aluno_nota = [([0]*nota) for alunos in range(alunos) ]"
      ],
      "metadata": {
        "id": "mgiNyg7pqs14"
      },
      "execution_count": 4,
      "outputs": []
    },
    {
      "cell_type": "markdown",
      "source": [
        "ciclo para la captura de los datos requeridos"
      ],
      "metadata": {
        "id": "O_4AkmWdq3G6"
      }
    },
    {
      "cell_type": "code",
      "source": [
        "for i in range(alunos):\n",
        "  aluno_nota[i][0] = (input(\"\\ndigite nome do aluno \" + str(i + 1) + \" \" ))   \n",
        "  aluno_nota[i][1] = (float(input(\"\\ndigite a nota do aluno \" + str(i + 1) + \" \" )))\n",
        "  media = aluno_nota[i][1] + media"
      ],
      "metadata": {
        "colab": {
          "base_uri": "https://localhost:8080/"
        },
        "id": "O6-TSZ9mq_SN",
        "outputId": "e3efb60e-078d-4f50-eae9-e3610f0f4673"
      },
      "execution_count": 5,
      "outputs": [
        {
          "name": "stdout",
          "output_type": "stream",
          "text": [
            "\n",
            "digite nome do aluno 1 Pedro\n",
            "\n",
            "digite a nota do aluno 1 8\n",
            "\n",
            "digite nome do aluno 2 Dani\n",
            "\n",
            "digite a nota do aluno 2 7\n",
            "\n",
            "digite nome do aluno 3 Ruben\n",
            "\n",
            "digite a nota do aluno 3 5\n",
            "\n",
            "digite nome do aluno 4 Caperucita\n",
            "\n",
            "digite a nota do aluno 4 9\n"
          ]
        }
      ]
    },
    {
      "cell_type": "markdown",
      "source": [
        "ciclo para procesar los datos capturados y dar resultados"
      ],
      "metadata": {
        "id": "UzGXGqRYrPLd"
      }
    },
    {
      "cell_type": "code",
      "source": [
        "print(\"\\n\\nLA MEDIA DEL GRUPO FUE: \", (media / alunos))\n",
        "for i in range(alunos):\n",
        "    if aluno_nota[i][1] > (media / alunos):\n",
        "        print(\"\\nparaben \" + aluno_nota[i][0] + \" você supera a média com \" + str(aluno_nota[i][1]) + \" puntos\" )"
      ],
      "metadata": {
        "colab": {
          "base_uri": "https://localhost:8080/"
        },
        "id": "8FDggWPgrVbu",
        "outputId": "fc9fbf86-bb5f-4799-82f6-2121a9a683ba"
      },
      "execution_count": 7,
      "outputs": [
        {
          "output_type": "stream",
          "name": "stdout",
          "text": [
            "\n",
            "\n",
            "LA MEDIA DEL GRUPO FUE:  7.25\n",
            "\n",
            "paraben Pedro você supera a média com 8.0 puntos\n",
            "\n",
            "paraben Caperucita você supera a média com 9.0 puntos\n"
          ]
        }
      ]
    }
  ]
}