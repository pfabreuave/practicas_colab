{
  "nbformat": 4,
  "nbformat_minor": 0,
  "metadata": {
    "colab": {
      "provenance": [],
      "authorship_tag": "ABX9TyPsUGGWZrnYB0L2YhQ7sGbe",
      "include_colab_link": true
    },
    "kernelspec": {
      "name": "python3",
      "display_name": "Python 3"
    },
    "language_info": {
      "name": "python"
    }
  },
  "cells": [
    {
      "cell_type": "markdown",
      "metadata": {
        "id": "view-in-github",
        "colab_type": "text"
      },
      "source": [
        "<a href=\"https://colab.research.google.com/github/pfabreuave/practicas_colab/blob/main/poo_herenca.ipynb\" target=\"_parent\"><img src=\"https://colab.research.google.com/assets/colab-badge.svg\" alt=\"Open In Colab\"/></a>"
      ]
    },
    {
      "cell_type": "code",
      "execution_count": null,
      "metadata": {
        "id": "QL9KAUDFKKtC"
      },
      "outputs": [],
      "source": []
    },
    {
      "cell_type": "markdown",
      "source": [
        "POO Herencia\n"
      ],
      "metadata": {
        "id": "0NH71D3fKMLT"
      }
    },
    {
      "cell_type": "markdown",
      "source": [
        "clase Padre\n"
      ],
      "metadata": {
        "id": "1f_h2fyLKXK6"
      }
    },
    {
      "cell_type": "code",
      "source": [
        "class Comunidade:\n",
        "    def __init__(self, nome, idade, profissão, origem): \n",
        "        self.nome = nome\n",
        "        self.idade = idade\n",
        "        self.profissão = profissão\n",
        "        self.origem = origem\n",
        "\n",
        "    def mostrarDatos(self):\n",
        "        print(f\"\\nMi nome e {self.nome} Tenho {self.idade} anos, minha profissão {self.profissão} e nasci em {self.origem}\")"
      ],
      "metadata": {
        "id": "jM7gVAeOKbhM"
      },
      "execution_count": null,
      "outputs": []
    },
    {
      "cell_type": "markdown",
      "source": [
        "clase hijo (Estudiante) que hereda del Padre (Comunidade)\n"
      ],
      "metadata": {
        "id": "4ZE7Ymj_LGTg"
      }
    },
    {
      "cell_type": "code",
      "source": [
        "class Estudiante(Comunidade):\n",
        "    def __init__(self, nome, idade, profissão, origem, cursos):\n",
        "        super().__init__(nome, idade, profissão, origem)\n",
        "        self.cursos = cursos"
      ],
      "metadata": {
        "id": "5VcLjjNiLVO8"
      },
      "execution_count": null,
      "outputs": []
    },
    {
      "cell_type": "markdown",
      "source": [
        "clase hijo (Funcionario) que hereda del Padre (Comunidade)"
      ],
      "metadata": {
        "id": "4_2lGbHfLudJ"
      }
    },
    {
      "cell_type": "code",
      "source": [
        "class Funcionario(Comunidade):\n",
        "    def __init__(self, nome, idade, profissão, origem, sueldo, cargo):\n",
        "        super().__init__(nome, idade, profissão, origem) \n",
        "        self.sueldo = sueldo\n",
        "        self.cargo = cargo"
      ],
      "metadata": {
        "id": "v82qRW7lL1f7"
      },
      "execution_count": null,
      "outputs": []
    },
    {
      "cell_type": "markdown",
      "source": [
        "instaciando cada clase y ejecutando un metodo perteciente al Padre"
      ],
      "metadata": {
        "id": "i-LJfK2BMJsw"
      }
    },
    {
      "cell_type": "markdown",
      "source": [
        "instanciando la clase Estudiante"
      ],
      "metadata": {
        "id": "zPUeQ82rMhUi"
      }
    },
    {
      "cell_type": "code",
      "source": [
        "Ruben = Estudiante(\"Ruben\", 38, \"Analista de Teste\", \"Holanda\", [\"Full Stack\", \"Node\", \"React\", \"Python\"])\n",
        "Ruben.mostrarDatos()\n",
        "print(f\"fiz os seguintes cursos: {Ruben.cursos}\\n\")"
      ],
      "metadata": {
        "id": "aoOll_RCMmo0"
      },
      "execution_count": null,
      "outputs": []
    },
    {
      "cell_type": "markdown",
      "source": [
        "instanciando la clase funcionario"
      ],
      "metadata": {
        "id": "-zhKsQVhMv8-"
      }
    },
    {
      "cell_type": "code",
      "source": [
        "Giulia = Funcionario(\"Giulia\", 23, \"Sicologo\", \"Brasil\", 25000, \"Coordinadora TOTI\" )\n",
        "Giulia.mostrarDatos()\n",
        "print(f\"meu salário é {Giulia.sueldo}$, Eu exerço a posição de {Giulia.cargo}\\n\")"
      ],
      "metadata": {
        "id": "kMxGYpiUM5RC"
      },
      "execution_count": null,
      "outputs": []
    },
    {
      "cell_type": "markdown",
      "source": [
        "instanciando la clase comunidade"
      ],
      "metadata": {
        "id": "o7pd3hNNNaVU"
      }
    },
    {
      "cell_type": "code",
      "source": [
        "Danilson = Comunidade(\"Danilson\", 38, \"Programador\", \"Portugal\")\n",
        "Danilson.mostrarDatos()"
      ],
      "metadata": {
        "id": "8nL1DQ0CNjMy"
      },
      "execution_count": null,
      "outputs": []
    }
  ]
}