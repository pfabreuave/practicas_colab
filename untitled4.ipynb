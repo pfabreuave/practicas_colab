{
  "nbformat": 4,
  "nbformat_minor": 0,
  "metadata": {
    "colab": {
      "provenance": [],
      "authorship_tag": "ABX9TyPf8kGqC60oyrcRDAYHp0dP",
      "include_colab_link": true
    },
    "kernelspec": {
      "name": "python3",
      "display_name": "Python 3"
    },
    "language_info": {
      "name": "python"
    }
  },
  "cells": [
    {
      "cell_type": "markdown",
      "metadata": {
        "id": "view-in-github",
        "colab_type": "text"
      },
      "source": [
        "<a href=\"https://colab.research.google.com/github/pfabreuave/practicas_colab/blob/main/untitled4.ipynb\" target=\"_parent\"><img src=\"https://colab.research.google.com/assets/colab-badge.svg\" alt=\"Open In Colab\"/></a>"
      ]
    },
    {
      "cell_type": "code",
      "execution_count": null,
      "metadata": {
        "id": "FCXaElTnb5Ae"
      },
      "outputs": [],
      "source": []
    },
    {
      "cell_type": "markdown",
      "source": [
        "                                EXERCÍCIO aula 13\n",
        "                        \n",
        "● Considerando um curso de programação a nota final é calculada a partir da \n",
        "seguinte conta: são feitos dois trabalhos (t1 e t2), caso a média (m) deles seja \n",
        "maior ou igual do que 7.0 o aluno é aprovado direto; se m for menor ou igual a \n",
        "3.0 o aluno está reprovado, se não o aluno vai para o trabalho final (tf).\n",
        "● Caso o aluno tenha que fazer o trabalho final, a média final é calculada da \n",
        "seguinte forma: a média aritmética entre a nota do trabalho final e a média m \n",
        "anterior. \n",
        "○ Se mf for maior ou igual a 5.0 o aluno está aprovado, se for menor o \n",
        "aluno está reprovado.\n",
        "● Escreva um programa em python que calcule a nota final desse aluno"
      ],
      "metadata": {
        "id": "EUyRoq41b6wV"
      }
    },
    {
      "cell_type": "code",
      "source": [
        "def captura_notas():\n",
        "      try:\n",
        "         Nome = input(\"Me dê seu nome \")\n",
        "         trabalhoI = float(input(\"Nota primero trabalho? \"))\n",
        "         trabalhoII = float(input(\"Nota segundo trabalho? \"))\n",
        "         nota_media = (trabalhoI + trabalhoII) /2\n",
        "         if nota_media >= 7:\n",
        "            print(f\"{Nome} você aprovou com {nota_media} Parabéns\")\n",
        "         elif nota_media <= 3:\n",
        "            print(f\"{Nome} você não passou desta vez seu desempenho foi {nota_media} Aguardamos o próximo curso\")\n",
        "         else:\n",
        "            trabalho_final = float(input(\"Nota del trabalho final? \"))\n",
        "            nota_final = (nota_media + trabalho_final) / 2\n",
        "            if nota_final >= 5:\n",
        "                print(f\"{Nome} você aprovou com {nota_final} Parabéns\")\n",
        "            else:\n",
        "                print(f\"{Nome} você não passou desta vez, seu desempenho foi {nota_final} Aguardamos o próximo curso\")\n",
        "      except Exception:\n",
        "        print (\"ocorreu um erro, você deve revisar os dados fornecidos\")\n",
        "      finally:\n",
        "        print(\"A consulta acabou\\n\")"
      ],
      "metadata": {
        "id": "3Sij_2LjcQpg"
      },
      "execution_count": null,
      "outputs": []
    },
    {
      "cell_type": "code",
      "source": [
        "captura_notas()"
      ],
      "metadata": {
        "id": "RKqvw887cZLf"
      },
      "execution_count": null,
      "outputs": []
    }
  ]
}