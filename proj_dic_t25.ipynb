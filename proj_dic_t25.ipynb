{
  "nbformat": 4,
  "nbformat_minor": 0,
  "metadata": {
    "colab": {
      "provenance": [],
      "authorship_tag": "ABX9TyNyTxWWUIN86gUm/0in3PBM",
      "include_colab_link": true
    },
    "kernelspec": {
      "name": "python3",
      "display_name": "Python 3"
    },
    "language_info": {
      "name": "python"
    }
  },
  "cells": [
    {
      "cell_type": "markdown",
      "metadata": {
        "id": "view-in-github",
        "colab_type": "text"
      },
      "source": [
        "<a href=\"https://colab.research.google.com/github/pfabreuave/practicas_colab/blob/main/proj_dic_t25.ipynb\" target=\"_parent\"><img src=\"https://colab.research.google.com/assets/colab-badge.svg\" alt=\"Open In Colab\"/></a>"
      ]
    },
    {
      "cell_type": "code",
      "execution_count": null,
      "metadata": {
        "id": "UmZMQIb-zWb2"
      },
      "outputs": [],
      "source": []
    },
    {
      "cell_type": "markdown",
      "source": [
        "    Programa para o controle do desempenho do\n",
        "    alunos de um curso de programação em Python\n",
        "\n",
        "    Qualquer semelhança com a realidade é mera coincidência"
      ],
      "metadata": {
        "id": "y0dOF_7izkHn"
      }
    },
    {
      "cell_type": "markdown",
      "source": [
        "Ponderacion:\n",
        "\n",
        "Control de Projeto = 9,375%, 3 evaluaciones\n",
        "\n",
        "Versionamento Git =\t28,125%, 9 evaluaciones\n",
        "\n",
        "Programação Python = 62,5%, 20 evaluaciones"
      ],
      "metadata": {
        "id": "xRUNhZUpzwed"
      }
    },
    {
      "cell_type": "code",
      "source": [
        "peso = [9.375,\t28.125,\t62.5]\n",
        "eval = [3, 9, 20]\n",
        "\n",
        "curso_python_valor = [\n",
        "                        ['Consuelo', [100, 92.4, 5, 38.49875]],\n",
        "                        ['Daily', [100, 100, 68.55, 80.34375]],\n",
        "                        ['Danilson', [100, 81.44, 0, 32.28]],\n",
        "                        ['Denis', [100, 34.11, 0, 18.9684375]],\n",
        "                        ['Elvin', [88.67, 96.33, 87.95, 90.374375]]\n",
        "                     ]\n",
        "\n",
        "materia =  [\"Controle de projeto\", \"Versionamento Git\", \"Programação Python\", \"Nota Ponderada\"]\n",
        "imp =  [\"Ctrl Proj\", \"Vers Git\", \"Prog Python\", \"Ponderada\"]\n",
        "\n",
        "notas_alumnos = {}"
      ],
      "metadata": {
        "id": "od2IRABH0SuN"
      },
      "execution_count": null,
      "outputs": []
    },
    {
      "cell_type": "markdown",
      "source": [
        "Gerar registros no dicionário a partir de uma lista"
      ],
      "metadata": {
        "id": "ofjN3d0Y0ZN1"
      }
    },
    {
      "cell_type": "code",
      "source": [
        "for i in range(len(curso_python_valor)):\n",
        "        notas_alumnos[curso_python_valor[i][0]] = curso_python_valor[i][1]"
      ],
      "metadata": {
        "id": "WPRSbrwb0d6t"
      },
      "execution_count": null,
      "outputs": []
    },
    {
      "cell_type": "code",
      "source": [
        "def menuPrincipal():\n",
        "    #os.system (\"cls\")\n",
        "    continuar = True\n",
        "    while(continuar):\n",
        "        #os.system (\"cls\")\n",
        "        print(\"==================== MENÚ PRINCIPAL ====================\")\n",
        "        print(\"1.- Consulta Participantes\")\n",
        "        print(\"2.- Ingresa Participante\")\n",
        "        print(\"3.- Elimina Participante\")\n",
        "        print(\"4.- Modificar Participante\")\n",
        "        print(\"5.- consulta em Massa\")\n",
        "        print(\"6.- Salir\")\n",
        "        print(\"========================================================\")\n",
        "        try:\n",
        "            opcion = int(input(\"Selecione uma opção: \"))\n",
        "        except Exception:\n",
        "                print (\"\\nERRO, SÓ PODE SER UM NÚMERO ENTERO POSITIVO\")\n",
        "                input(\"Enter para continuar\")\n",
        "        else:   \n",
        "            if opcion < 1 or opcion > 6:\n",
        "                print(\"Escolha errada, por favor digite novamente...\")\n",
        "            elif opcion == 6:\n",
        "                 continuar = False\n",
        "                 print(\"¡Obrigado por participar do teste!\")\n",
        "                 break\n",
        "            else:\n",
        "                if opcion == 1:\n",
        "                   consulta_participante()\n",
        "                if opcion ==  2:\n",
        "                   ingresa_participante()\n",
        "                if opcion ==  3:\n",
        "                   elimina_participante()\n",
        "                if opcion ==  4:\n",
        "                   modifica_participante()\n",
        "                if opcion ==  5:\n",
        "                   consulta_masiva()\n",
        "                if opcion == 6 :\n",
        "                   return "
      ],
      "metadata": {
        "id": "79uKwWW00jhx"
      },
      "execution_count": null,
      "outputs": []
    },
    {
      "cell_type": "code",
      "source": [
        "def consulta_participante():\n",
        "    #os.system (\"cls\")\n",
        "    part = input(\"Nome do participante: \")\n",
        "    if part in notas_alumnos:\n",
        "        list = notas_alumnos[part]\n",
        "        print(f\"\\nos resultados de {part} são:\\n\")\n",
        "        print(f\"    {materia[0]} --->   {list[0]}  ({peso[0]}) %\")\n",
        "        print(f\"    {materia[1]}   --->   {list[1]}  ({peso[1]}) %\")\n",
        "        print(f\"    {materia[2]}  --->   {list[2]}  ({peso[2]}) %\\n\")\n",
        "        print(f\"    {materia[3]}              ---> {list[3]} de 100\")    \n",
        "        input(\"Enter para continuar\")\n",
        "    else:\n",
        "        print (f\"\\n       {part} não existe, tente outro\")\n",
        "        input(\"Enter para continuar\")"
      ],
      "metadata": {
        "id": "7ZiqeisW1CHE"
      },
      "execution_count": null,
      "outputs": []
    },
    {
      "cell_type": "code",
      "source": [
        "def ingresa_participante():\n",
        "\n",
        "    alumno = input(\"Nome do aluno: \")\n",
        "    notas = []\n",
        "    mat = 0\n",
        "    ingresar_notas = True\n",
        "    while ingresar_notas:\n",
        "            try:\n",
        "                nota = float(input(f\"Digite a nota obtida em {materia[mat]}: \"))\n",
        "            except Exception:\n",
        "                print (\"\\nERRO, SÓ PODE SER UM NÚMERO POSITIVO, DECIMAIS SEPARADOS POR PONTO\")\n",
        "            else:    \n",
        "                notas.append(nota)\n",
        "                mat +=1\n",
        "                if  mat == 3:\n",
        "                    n0 = notas[0]\n",
        "                    n1 = notas[1]\n",
        "                    n2 = notas[2]\n",
        "                    nueva_nota = ((n0 * peso[0]) / 100) + ((n1 * peso[1]) / 100) + ((n2 * peso[2]) / 100)\n",
        "                    notas.append(nueva_nota)\n",
        "                    ingresar_notas = False\n",
        "                notas_alumnos[alumno] = notas\n"
      ],
      "metadata": {
        "id": "JjyjEgfU1EJV"
      },
      "execution_count": null,
      "outputs": []
    },
    {
      "cell_type": "code",
      "source": [
        "def elimina_participante():\n",
        "    part = input(\"Nome do participante que você deseja remover: \")\n",
        "    if part in notas_alumnos:\n",
        "        del notas_alumnos[f\"{part}\"]\n",
        "        print (f\"\\n       {part} foi removido\")\n",
        "    else:\n",
        "        print (f\"\\n       {part} não existe, tente outro\")\n",
        "    input(\"Enter para continuar\")"
      ],
      "metadata": {
        "id": "HmIrDNVl1K8z"
      },
      "execution_count": null,
      "outputs": []
    },
    {
      "cell_type": "code",
      "source": [
        "def modifica_participante():\n",
        "    part = input(\"Nome do participante: \")\n",
        "    if part in notas_alumnos:\n",
        "        list = notas_alumnos[part]\n",
        "        print(f\"\\nos resultados de {part} são:\\n\")\n",
        "        print(f\"    {materia[0]} --->   {list[0]}  ({peso[0]}) %\")\n",
        "        print(f\"    {materia[1]}   --->   {list[1]}  ({peso[1]}) %\")\n",
        "        print(f\"    {materia[2]}  --->   {list[2]}  ({peso[2]}) %\\n\")\n",
        "        print(f\"    {materia[3]}              ---> {list[3]} de 100\")    \n",
        "        input(\"enter para continuar, vamos pedir as Notas\")\n",
        "    else:\n",
        "        print (f\"\\n       {part} não existe, tente outro\")\n",
        "        input(\"Enter para continuar\")\n",
        "        return\n",
        "    notas = []\n",
        "    mat = 0\n",
        "    ingresar_notas = True\n",
        "    while ingresar_notas:\n",
        "            try:\n",
        "                nota = float(input(f\"Digite a nota obtida em {materia[mat]}: \"))\n",
        "            except Exception:\n",
        "                print (\"\\nERRO, SÓ PODE SER UM NÚMERO POSITIVO, DECIMAIS SEPARADOS POR PONTO\")\n",
        "            else:   \n",
        "                notas.append(nota)\n",
        "                mat +=1\n",
        "                if  mat == 3:\n",
        "                    n0 = notas[0]\n",
        "                    n1 = notas[1]\n",
        "                    n2 = notas[2]\n",
        "                    nueva_nota = ((n0 * peso[0]) / 100) + ((n1 * peso[1]) / 100) + ((n2 * peso[2]) / 100)\n",
        "                    notas.append(nueva_nota)\n",
        "                    ingresar_notas = False\n",
        "                notas_alumnos[part] = notas\n",
        "    "
      ],
      "metadata": {
        "id": "GfSpKhA71Osx"
      },
      "execution_count": null,
      "outputs": []
    },
    {
      "cell_type": "code",
      "source": [
        "def consulta_masiva():\n",
        "\n",
        "    print(f\"            {imp[0]}     {imp[1]}    {imp[2]}    {imp[3]}\")\n",
        "    for clave in notas_alumnos:\n",
        "        list = notas_alumnos[clave]\n",
        "        print(f\"{clave}\")\n",
        "        print(\"            \",\"%.1f\" % list[0],\"        \",\"%.1f\" % list[1],\"       \",\"%.1f\" %list[2],\"          \",\"%.1f\" %list[3])\n",
        "\n",
        "    input(\"Enter para continuar\")"
      ],
      "metadata": {
        "id": "-CeG2wPQ1VEZ"
      },
      "execution_count": null,
      "outputs": []
    },
    {
      "cell_type": "code",
      "source": [
        "menuPrincipal()"
      ],
      "metadata": {
        "id": "UqMymSR-1mY5"
      },
      "execution_count": null,
      "outputs": []
    }
  ]
}