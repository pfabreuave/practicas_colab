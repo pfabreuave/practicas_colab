{
  "nbformat": 4,
  "nbformat_minor": 0,
  "metadata": {
    "colab": {
      "provenance": [],
      "authorship_tag": "ABX9TyP1Mn19nMnZiBJGCVvM4Bq5",
      "include_colab_link": true
    },
    "kernelspec": {
      "name": "python3",
      "display_name": "Python 3"
    },
    "language_info": {
      "name": "python"
    }
  },
  "cells": [
    {
      "cell_type": "markdown",
      "metadata": {
        "id": "view-in-github",
        "colab_type": "text"
      },
      "source": [
        "<a href=\"https://colab.research.google.com/github/pfabreuave/practicas_colab/blob/main/untitled3.ipynb\" target=\"_parent\"><img src=\"https://colab.research.google.com/assets/colab-badge.svg\" alt=\"Open In Colab\"/></a>"
      ]
    },
    {
      "cell_type": "code",
      "execution_count": null,
      "metadata": {
        "id": "KUXNVQhE3SDL"
      },
      "outputs": [],
      "source": []
    },
    {
      "cell_type": "markdown",
      "source": [
        "                        Exemplo de alguns métodos\n"
      ],
      "metadata": {
        "id": "GVkez_lb3fqQ"
      }
    },
    {
      "cell_type": "code",
      "source": [
        "contenedor_int = [3, 5, 1, 7, 3, 6, 9, 8, 6, 0]"
      ],
      "metadata": {
        "id": "2qFZZkFm4PPj"
      },
      "execution_count": null,
      "outputs": []
    },
    {
      "cell_type": "markdown",
      "source": [
        "sort : classifica os valores na lista em ordem crescente"
      ],
      "metadata": {
        "id": "1Z3n5XNB4Vo8"
      }
    },
    {
      "cell_type": "code",
      "source": [
        "contenedor_int.sort()                   # classifica os valores na lista em ordem crescente\n",
        "print(contenedor_int)                   # [0, 1, 3, 3, 5, 6, 6, 7, 8, 9]"
      ],
      "metadata": {
        "id": "Isl-yRO54gaP"
      },
      "execution_count": null,
      "outputs": []
    },
    {
      "cell_type": "markdown",
      "source": [
        "insert(a, b) inserta en la posicion a el valor de b"
      ],
      "metadata": {
        "id": "5Bs-Gtev4uAU"
      }
    },
    {
      "cell_type": "code",
      "source": [
        "contenedor_int.insert(2, 8)             # na posição 2 adicione um 8\n",
        "print(contenedor_int)                   # [0, 1, 8, 3, 3, 5, 6, 6, 7, 8, 9]"
      ],
      "metadata": {
        "id": "ypQYFJh05ez5"
      },
      "execution_count": null,
      "outputs": []
    },
    {
      "cell_type": "markdown",
      "source": [
        "append(a) adicione o valor de a ao final da lista"
      ],
      "metadata": {
        "id": "4YYjEO-85p2M"
      }
    },
    {
      "cell_type": "code",
      "source": [
        "contenedor_int.append(7)                # adicione um 7 ao final da lista\n",
        "print(contenedor_int)                   # [0, 1, 8, 3, 3, 5, 6, 6, 7, 8, 9, 7]\n"
      ],
      "metadata": {
        "id": "N4CEzXyM6M_0"
      },
      "execution_count": null,
      "outputs": []
    },
    {
      "cell_type": "markdown",
      "source": [
        "count(a) Quantas vezes na lista o elemento passado por parâmetro foi encontrado?"
      ],
      "metadata": {
        "id": "YTcIQIcB6eiy"
      }
    },
    {
      "cell_type": "code",
      "source": [
        "print(contenedor_int.count(3))          # quantas vezes 3 aparece na lista         \n",
        "                                        # 2 veces \n"
      ],
      "metadata": {
        "colab": {
          "base_uri": "https://localhost:8080/"
        },
        "id": "h5B_k3X37CUO",
        "outputId": "5469668a-a087-4b1b-bd04-9578c5a4d829"
      },
      "execution_count": null,
      "outputs": [
        {
          "output_type": "stream",
          "name": "stdout",
          "text": [
            "2\n"
          ]
        }
      ]
    },
    {
      "cell_type": "markdown",
      "source": [
        "index(a) qual é o índice do primeiro elemento encontrado solicitado no parâmetro"
      ],
      "metadata": {
        "id": "8OdwzXG37pyt"
      }
    },
    {
      "cell_type": "code",
      "source": [
        "print(contenedor_int.index(8))          # qual é o índice do primeiro 8 da lista         \n",
        "                                        # 2 es el indice"
      ],
      "metadata": {
        "id": "h29eR7wm8WjK"
      },
      "execution_count": null,
      "outputs": []
    },
    {
      "cell_type": "markdown",
      "source": [
        "remove(a) remova o primeiro elemento da lista que corresponde ao parâmetro"
      ],
      "metadata": {
        "id": "cBZURSd38qZQ"
      }
    },
    {
      "cell_type": "code",
      "source": [
        "contenedor_int.remove(8)                # remover o primeiro 8 da lista\n",
        "print(contenedor_int)                   # [0, 1, 3, 3, 5, 6, 6, 7, 8, 9, 7]"
      ],
      "metadata": {
        "id": "ZPdifZ-99RyR"
      },
      "execution_count": null,
      "outputs": []
    },
    {
      "cell_type": "markdown",
      "source": [
        "pop(a) remove o elemento localizado na posição indicada no parâmetro"
      ],
      "metadata": {
        "id": "_EBzJFCr9wFZ"
      }
    },
    {
      "cell_type": "code",
      "source": [
        "contenedor_int.pop(2)                   # remove o elemento que está na posição 2 da lista\n",
        "print(contenedor_int)                   # [0, 1, 3, 5, 6, 6, 7, 8, 9, 7]"
      ],
      "metadata": {
        "id": "J6wR1bdC-H4f"
      },
      "execution_count": null,
      "outputs": []
    },
    {
      "cell_type": "markdown",
      "source": [
        "copy copia a lista criando um novo objeto"
      ],
      "metadata": {
        "id": "EftLY1Qd-SgX"
      }
    },
    {
      "cell_type": "code",
      "source": [
        "contenedor_int2 = contenedor_int.copy   # copia a lista criando um novo objeto\n",
        "print(id(contenedor_int))               # \n",
        "print(id(contenedor_int2))              # "
      ],
      "metadata": {
        "id": "FxS7FFHa-fAG"
      },
      "execution_count": null,
      "outputs": []
    },
    {
      "cell_type": "markdown",
      "source": [
        "reverse() classifica a lista pelos índices do maior para o menor"
      ],
      "metadata": {
        "id": "e6ThnsJk-6HD"
      }
    },
    {
      "cell_type": "code",
      "source": [
        "contenedor_int.reverse()                # classifica a lista pelos índices do maior para o menor\n",
        "print(contenedor_int)                   # [7, 9, 8, 7, 6, 6, 5, 3, 1, 0]"
      ],
      "metadata": {
        "id": "twmZq2u7_Exf"
      },
      "execution_count": null,
      "outputs": []
    },
    {
      "cell_type": "markdown",
      "source": [
        "len(objeto) retorna o tamanho do objeto indicado no parâmetro"
      ],
      "metadata": {
        "id": "kpPvbqB0_Nn0"
      }
    },
    {
      "cell_type": "code",
      "source": [
        "print(len(contenedor_int))              # dá o tamanho da lista"
      ],
      "metadata": {
        "id": "B3uvLNvj_pSN"
      },
      "execution_count": null,
      "outputs": []
    },
    {
      "cell_type": "markdown",
      "source": [
        "min(lista) retorna o valor mínimo na lista"
      ],
      "metadata": {
        "id": "Nw_uqId4_3-d"
      }
    },
    {
      "cell_type": "code",
      "source": [
        "print(min(contenedor_int))              # retorna o valor mínimo na lista\n",
        "                                        # 0\n"
      ],
      "metadata": {
        "id": "UXzgYharAUqr"
      },
      "execution_count": null,
      "outputs": []
    },
    {
      "cell_type": "markdown",
      "source": [
        "max(lista) retorna o valor máximo na lista"
      ],
      "metadata": {
        "id": "f5gY95SmAsBI"
      }
    },
    {
      "cell_type": "code",
      "source": [
        "print(max(contenedor_int))              # retorna o valor máximo na lista\n",
        "                                        # 9"
      ],
      "metadata": {
        "id": "2A40ngbyA1FL"
      },
      "execution_count": null,
      "outputs": []
    }
  ]
}