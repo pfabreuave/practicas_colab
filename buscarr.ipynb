{
  "nbformat": 4,
  "nbformat_minor": 0,
  "metadata": {
    "colab": {
      "provenance": [],
      "authorship_tag": "ABX9TyOcVc16wBpU5xRO/LCWWGSQ",
      "include_colab_link": true
    },
    "kernelspec": {
      "name": "python3",
      "display_name": "Python 3"
    },
    "language_info": {
      "name": "python"
    }
  },
  "cells": [
    {
      "cell_type": "markdown",
      "metadata": {
        "id": "view-in-github",
        "colab_type": "text"
      },
      "source": [
        "<a href=\"https://colab.research.google.com/github/pfabreuave/practicas_colab/blob/main/buscarr.ipynb\" target=\"_parent\"><img src=\"https://colab.research.google.com/assets/colab-badge.svg\" alt=\"Open In Colab\"/></a>"
      ]
    },
    {
      "cell_type": "code",
      "execution_count": null,
      "metadata": {
        "id": "cpMF16xTNs-r"
      },
      "outputs": [],
      "source": []
    },
    {
      "cell_type": "markdown",
      "source": [
        "\n",
        "                        AULA 14  Y  AULA 15\n",
        "Escrever um programa que leia quantos r ou R tenha na frase \"o rato roeu a \n",
        "roupa do Rei de Roma\" usando FOR é WHILE\n",
        "\n"
      ],
      "metadata": {
        "id": "bpkfOg4NNueo"
      }
    },
    {
      "cell_type": "markdown",
      "source": [
        "variáveis"
      ],
      "metadata": {
        "id": "ILPPiEENOd6A"
      }
    },
    {
      "cell_type": "code",
      "source": [
        "frase = \"o rato roeu a roupa do Rei de Roma\"\n",
        "cont = 0\n",
        "i = 0"
      ],
      "metadata": {
        "id": "weHI7EcZOrHF"
      },
      "execution_count": null,
      "outputs": []
    },
    {
      "cell_type": "markdown",
      "source": [
        "Captura de dado para pesquisar"
      ],
      "metadata": {
        "id": "PkAFg90oPM7G"
      }
    },
    {
      "cell_type": "code",
      "source": [
        "letra = input(\"\\ndigite a letra para pesquisar: \")"
      ],
      "metadata": {
        "id": "aH3Nw69DPQt5"
      },
      "execution_count": null,
      "outputs": []
    },
    {
      "cell_type": "markdown",
      "source": [
        "pesquisar usando WHILE"
      ],
      "metadata": {
        "id": "RQa1-YKPPyZA"
      }
    },
    {
      "cell_type": "code",
      "source": [
        "while i < len(frase):\n",
        "  if frase[i] == letra.upper() or frase[i] == letra.lower():\n",
        "        cont = cont + 1\n",
        "  i = i + 1\n",
        "print(cont, \"encontrado \", \"entre\", letra.upper(), \"y\",letra.lower(), \"usando while\"  ) "
      ],
      "metadata": {
        "id": "IbMmh_G0P02U"
      },
      "execution_count": null,
      "outputs": []
    },
    {
      "cell_type": "markdown",
      "source": [
        "pesquisar usando FOR"
      ],
      "metadata": {
        "id": "aRpNmvPmQUI7"
      }
    },
    {
      "cell_type": "code",
      "source": [
        "cont = 0\n",
        "for digito in frase:\n",
        "    if digito == letra.upper() or digito == letra.lower():\n",
        "       cont = cont + 1   \n",
        "print(cont, \"encontrado \", \"entre\", letra.upper(), \"y\",letra.lower(), \"usando for\\n\"  )"
      ],
      "metadata": {
        "id": "zkFyjl2qQYAZ"
      },
      "execution_count": null,
      "outputs": []
    }
  ]
}